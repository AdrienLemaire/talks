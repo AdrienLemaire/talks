{
 "cells": [
  {
   "cell_type": "markdown",
   "metadata": {},
   "source": [
    "# The Power Sum"
   ]
  },
  {
   "cell_type": "markdown",
   "metadata": {},
   "source": [
    "https://www.hackerrank.com/challenges/the-power-sum"
   ]
  },
  {
   "cell_type": "markdown",
   "metadata": {},
   "source": [
    "## Tests"
   ]
  },
  {
   "cell_type": "code",
   "execution_count": 10,
   "metadata": {
    "collapsed": true
   },
   "outputs": [],
   "source": [
    "import unittest\n",
    "\n",
    "class PowerSumTest(unittest.TestCase):\n",
    "    \n",
    "    def test10(self):\n",
    "        self.assertEqual(powerSum(10, 2), 1)\n",
    "        \n",
    "    def test100(self):\n",
    "        self.assertEqual(powerSum(100, 2), 3)"
   ]
  },
  {
   "cell_type": "markdown",
   "metadata": {},
   "source": [
    "## Code  O(2^n)"
   ]
  },
  {
   "cell_type": "code",
   "execution_count": 4,
   "metadata": {
    "collapsed": true
   },
   "outputs": [],
   "source": [
    "from math import floor\n",
    "\n",
    "\n",
    "def powerSum(x, n, profile=False):\n",
    "    result = []\n",
    "    expanded = [{i**n} for i in range(1, floor(x**(1./n))+1)]\n",
    "    counter = 0\n",
    "    while len(expanded)>0:\n",
    "        counter+=1\n",
    "        a = expanded.pop()\n",
    "        if sum(a) == x:\n",
    "            result.append(a)\n",
    "            continue\n",
    "        for b in expanded:\n",
    "            comb = a.union(b)\n",
    "            if not bool(a.intersection(b)) and sum(comb) <= x and comb not in expanded and comb not in result:\n",
    "                expanded.append(comb)\n",
    "    if profile:\n",
    "        return counter\n",
    "    return len(result)"
   ]
  },
  {
   "cell_type": "code",
   "execution_count": 5,
   "metadata": {},
   "outputs": [
    {
     "data": {
      "text/plain": [
       "<matplotlib.legend.Legend at 0x7f2e708ee748>"
      ]
     },
     "execution_count": 5,
     "metadata": {},
     "output_type": "execute_result"
    },
    {
     "data": {
      "image/png": "[encoded data removed]",
      "text/plain": [
       "<matplotlib.figure.Figure at 0x7f2e85f58390>"
      ]
     },
     "metadata": {},
     "output_type": "display_data"
    }
   ],
   "source": [
    "%matplotlib inline\n",
    "import matplotlib.pyplot as plt\n",
    "\n",
    "x = range(1, 200)\n",
    "handles = []\n",
    "for power in range(2, 11):\n",
    "    y = [powerSum(i, power, profile=True) for i in x]\n",
    "    handles.append(plt.plot(x, y, label='Power of {}'.format(power))[0])\n",
    "plt.legend(handles=handles)"
   ]
  },
  {
   "cell_type": "markdown",
   "metadata": {
    "collapsed": true
   },
   "source": [
    "## Code O(logN)\n",
    "Code above has exponential complexity, this is not gonna work. Let's take a mathematical approach to solve this problem"
   ]
  },
  {
   "cell_type": "raw",
   "metadata": {
    "collapsed": true
   },
   "source": [
    "If  N == 2:\n",
    "\n",
    "    a² = 100?\n",
    "    a²+b² = 100?\n",
    "    a²+b²+c² = 100?\n",
    "    ...\n",
    "    \n",
    "How do we find the max number of iterations?"
   ]
  },
  {
   "cell_type": "markdown",
   "metadata": {},
   "source": [
    "$$\n",
    "X = 100\\\\\n",
    "max\\_iter = \\sum_{i=1}^{X}x^n \\text{  while < X}\n",
    "$$"
   ]
  },
  {
   "cell_type": "markdown",
   "metadata": {},
   "source": [
    "Solve equations per depth for N=2 & X = 100:\n",
    "\n",
    "depth = 1:\n",
    "    A² = X ⇒ A = √X ⇒ 10\n",
    "    \n",
    "depth = 2:\n",
    "    A² + B² = X\n",
    "  \n",
    " \n",
    "To solve this problem, confer:\n",
    "* [Subset sum problem](https://en.wikipedia.org/wiki/Subset_sum_problem)\n",
    "* [0-1 Knapsack problem](https://en.wikipedia.org/wiki/Knapsack_problem)"
   ]
  },
  {
   "cell_type": "code",
   "execution_count": 13,
   "metadata": {
    "collapsed": true
   },
   "outputs": [],
   "source": [
    "from math import floor\n",
    "\n",
    "\n",
    "def powerSum(x, n, profile=False):\n",
    "    result = []\n",
    "    accsum = 0\n",
    "    keys = []\n",
    "    for i in range(1, floor(x**(1./n))+1):\n",
    "        key = i**n\n",
    "        accsum += key\n",
    "        keys.append((key, accsum))\n",
    "    expanded = []\n",
    "    \n",
    "    counter = 0\n",
    "    while len(keys)>0:\n",
    "        counter+=1\n",
    "        key, remain = keys.pop()\n",
    "        for i, combination in enumerate(expanded):\n",
    "            if key in combination: # Do not loop forever\n",
    "                continue\n",
    "            else:  # Append new possible combination\n",
    "                new_comb = combination + [key]\n",
    "                if sum(new_comb) == x:\n",
    "                    result.append(new_comb)\n",
    "                elif sum(new_comb) < x and sum(combination + [remain]) >= x:\n",
    "                    expanded.append(new_comb)\n",
    "        if key == x:\n",
    "            result.append(key)\n",
    "        elif remain >= x:\n",
    "            expanded.append([key])\n",
    "        \n",
    "            \n",
    "    if profile:\n",
    "        return counter\n",
    "    return len(result)"
   ]
  },
  {
   "cell_type": "code",
   "execution_count": 7,
   "metadata": {
    "scrolled": true
   },
   "outputs": [
    {
     "data": {
      "text/plain": [
       "<matplotlib.legend.Legend at 0x7f2e74802978>"
      ]
     },
     "execution_count": 7,
     "metadata": {},
     "output_type": "execute_result"
    },
    {
     "data": {
      "image/png": "[encoded data removed]",
      "text/plain": [
       "<matplotlib.figure.Figure at 0x7f2e9720f7b8>"
      ]
     },
     "metadata": {},
     "output_type": "display_data"
    }
   ],
   "source": [
    "%matplotlib inline\n",
    "import matplotlib.pyplot as plt\n",
    "\n",
    "x = range(1, 200)\n",
    "handles = []\n",
    "for power in range(2, 11):\n",
    "    y = [powerSum(i, power, profile=True) for i in x]\n",
    "    handles.append(plt.plot(x, y, label='Power of {}'.format(power))[0])\n",
    "plt.legend(handles=handles)"
   ]
  },
  {
   "cell_type": "code",
   "execution_count": null,
   "metadata": {
    "collapsed": true
   },
   "outputs": [],
   "source": []
  }
 ],
 "metadata": {
  "kernelspec": {
   "display_name": "Python 3",
   "language": "python",
   "name": "python3"
  },
  "language_info": {
   "codemirror_mode": {
    "name": "ipython",
    "version": 3
   },
   "file_extension": ".py",
   "mimetype": "text/x-python",
   "name": "python",
   "nbconvert_exporter": "python",
   "pygments_lexer": "ipython3",
   "version": "3.6.4"
  },
  "tdd": {
   "colors": {},
   "moveMenuRight": true,
   "navigate_menu": true,
   "number_sections": false,
   "sideBar": true,
   "tdd_cell": false,
   "tdd_section_display": "block",
   "tdd_window_display": true,
   "threshold": 4
  }
 },
 "nbformat": 4,
 "nbformat_minor": 2
}
