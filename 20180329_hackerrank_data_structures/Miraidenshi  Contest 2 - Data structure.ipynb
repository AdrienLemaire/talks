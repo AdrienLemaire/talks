{
 "cells": [
  {
   "cell_type": "markdown",
   "metadata": {
    "heading_collapsed": true
   },
   "source": [
    "# About this contest"
   ]
  },
  {
   "cell_type": "markdown",
   "metadata": {
    "hidden": true
   },
   "source": [
    "<img src=\"https://i.imgur.com/4pG8MIf.png\" style=\"width:300px\" />"
   ]
  },
  {
   "cell_type": "markdown",
   "metadata": {
    "hidden": true
   },
   "source": [
    "**Motivation for the contest:**\n",
    "\n",
    "After the [Contest 1 about Algorithms](https://www.hackerrank.com/contests/miraidenshi-1-algorithms/), which was one of the Common steps in the [Programming Curriculum Part 2](https://docs.google.com/document/d/1NZBqZcbv9pRTlL81c7aeVVk5q-cwTUJ5vccvtWbEzIk/edit#heading=h.vvw4vohs2rzk), we logically continued on with Data Structures for the [2nd contest](https://www.hackerrank.com/contests/miraidenshi-2-data-structure/)."
   ]
  },
  {
   "cell_type": "markdown",
   "metadata": {
    "heading_collapsed": true
   },
   "source": [
    "# Dynamic Array"
   ]
  },
  {
   "cell_type": "markdown",
   "metadata": {
    "hidden": true
   },
   "source": [
    "https://www.hackerrank.com/contests/miraidenshi-2-data-structure/challenges/dynamic-array"
   ]
  },
  {
   "cell_type": "markdown",
   "metadata": {
    "heading_collapsed": true,
    "hidden": true
   },
   "source": [
    "## example"
   ]
  },
  {
   "cell_type": "code",
   "execution_count": 14,
   "metadata": {
    "hidden": true
   },
   "outputs": [],
   "source": [
    "N = 2\n",
    "Q = 5\n",
    "queries = [\n",
    "    '1 0 5',\n",
    "    '1 1 7',\n",
    "    '1 0 3',\n",
    "    '2 1 0',\n",
    "    '2 1 1'\n",
    "]"
   ]
  },
  {
   "cell_type": "markdown",
   "metadata": {
    "heading_collapsed": true,
    "hidden": true
   },
   "source": [
    "## Code"
   ]
  },
  {
   "cell_type": "code",
   "execution_count": 15,
   "metadata": {
    "hidden": true
   },
   "outputs": [
    {
     "name": "stdout",
     "output_type": "stream",
     "text": [
      "7\n",
      "3\n"
     ]
    }
   ],
   "source": [
    "#N, Q = [int(i) for i in input().strip().split()]\n",
    "\n",
    "seqList = [[] for i in range(N)]\n",
    "lastAnswer = 0\n",
    "\n",
    "for q in range(Q):\n",
    "    #query = input().strip()\n",
    "    query = queries[q]\n",
    "    queryType, x, y = [int(i) for i in query.split()]\n",
    "    index = x^lastAnswer%N\n",
    "    if queryType == 1:\n",
    "        seqList[index].append(y)\n",
    "    elif queryType == 2:\n",
    "        seq = seqList[index]\n",
    "        lastAnswer = seq[y % len(seq)]\n",
    "        print(lastAnswer)"
   ]
  },
  {
   "cell_type": "markdown",
   "metadata": {
    "heading_collapsed": true
   },
   "source": [
    "# Maximum Element"
   ]
  },
  {
   "cell_type": "markdown",
   "metadata": {
    "hidden": true
   },
   "source": [
    "https://www.hackerrank.com/contests/miraidenshi-2-data-structure/challenges/maximum-element"
   ]
  },
  {
   "cell_type": "markdown",
   "metadata": {
    "heading_collapsed": true,
    "hidden": true
   },
   "source": [
    "## Example"
   ]
  },
  {
   "cell_type": "code",
   "execution_count": 16,
   "metadata": {
    "hidden": true
   },
   "outputs": [],
   "source": [
    "N = 10\n",
    "queries = [\n",
    "    \"1 97\",\n",
    "    \"2\",\n",
    "    \"1 20\",\n",
    "    \"2\",\n",
    "    \"1 26\",\n",
    "    \"1 20\",\n",
    "    \"2\",\n",
    "    \"3\",\n",
    "    \"1 91\",\n",
    "    \"3\",\n",
    "]"
   ]
  },
  {
   "cell_type": "markdown",
   "metadata": {
    "heading_collapsed": true,
    "hidden": true
   },
   "source": [
    "## Solution with timeout"
   ]
  },
  {
   "cell_type": "code",
   "execution_count": 17,
   "metadata": {
    "hidden": true
   },
   "outputs": [
    {
     "name": "stdout",
     "output_type": "stream",
     "text": [
      "26\n",
      "91\n"
     ]
    }
   ],
   "source": [
    "#N = int(input().strip())\n",
    "\n",
    "stack = []\n",
    "\n",
    "for n in range(N):\n",
    "    #query = list(map(int, input().strip().split()))\n",
    "    query = list(map(int, queries[n].split()))\n",
    "    \n",
    "    if query[0] == 1:\n",
    "        stack.append(query[1])\n",
    "    elif query[0] == 2:\n",
    "        del stack[-1]\n",
    "    else:\n",
    "        print(max(stack))\n"
   ]
  },
  {
   "cell_type": "markdown",
   "metadata": {
    "hidden": true
   },
   "source": [
    "Remember the constraints:\n",
    "\n",
    "    1 ≤ N ≤ 10⁵\n",
    "    1 ≤ x ≤ 10⁹"
   ]
  },
  {
   "cell_type": "markdown",
   "metadata": {
    "heading_collapsed": true,
    "hidden": true
   },
   "source": [
    "## Code\n"
   ]
  },
  {
   "cell_type": "code",
   "execution_count": 18,
   "metadata": {
    "hidden": true
   },
   "outputs": [
    {
     "data": {
      "text/plain": [
       "97"
      ]
     },
     "execution_count": 18,
     "metadata": {},
     "output_type": "execute_result"
    },
    {
     "data": {
      "text/plain": [
       "20"
      ]
     },
     "execution_count": 18,
     "metadata": {},
     "output_type": "execute_result"
    },
    {
     "data": {
      "text/plain": [
       "26"
      ]
     },
     "execution_count": 18,
     "metadata": {},
     "output_type": "execute_result"
    },
    {
     "name": "stdout",
     "output_type": "stream",
     "text": [
      "26\n",
      "91\n"
     ]
    }
   ],
   "source": [
    "#N = int(input().strip())\n",
    "\n",
    "stack = [0]\n",
    "\n",
    "for n in range(N):\n",
    "    #query = list(map(int, input().strip().split()))\n",
    "    query = list(map(int, queries[n].split()))\n",
    "    \n",
    "    if query[0] == 1:\n",
    "        stack.append(max(query[1], stack[-1]))\n",
    "    elif query[0] == 2:\n",
    "        stack.pop()\n",
    "    else:\n",
    "        print(stack[-1])\n"
   ]
  },
  {
   "cell_type": "code",
   "execution_count": null,
   "metadata": {
    "hidden": true
   },
   "outputs": [],
   "source": []
  },
  {
   "cell_type": "markdown",
   "metadata": {
    "heading_collapsed": true
   },
   "source": [
    "# Tree: Height of a Binary Tree"
   ]
  },
  {
   "cell_type": "markdown",
   "metadata": {
    "hidden": true
   },
   "source": [
    "https://www.hackerrank.com/contests/miraidenshi-2-data-structure/challenges/tree-height-of-a-binary-tree"
   ]
  },
  {
   "cell_type": "markdown",
   "metadata": {
    "hidden": true
   },
   "source": [
    "## Example"
   ]
  },
  {
   "cell_type": "code",
   "execution_count": 19,
   "metadata": {
    "hidden": true
   },
   "outputs": [],
   "source": [
    "class Node:\n",
    "    def __init__(self,info): \n",
    "        self.info = info  \n",
    "        self.left = None  \n",
    "        self.right = None \n",
    "        self.level = None \n",
    "\n",
    "    def __str__(self):\n",
    "        return str(self.info) \n",
    "\n",
    "    \n",
    "class BinarySearchTree:\n",
    "    def __init__(self): \n",
    "        self.root = None\n",
    "\n",
    "    def create(self, val):  \n",
    "        if self.root == None:\n",
    "            self.root = Node(val)\n",
    "        else:\n",
    "            current = self.root\n",
    "         \n",
    "            while True:\n",
    "                if val < current.info:\n",
    "                    if current.left:\n",
    "                        current = current.left\n",
    "                    else:\n",
    "                        current.left = Node(val)\n",
    "                        break\n",
    "                elif val > current.info:\n",
    "                    if current.right:\n",
    "                        current = current.right\n",
    "                    else:\n",
    "                        current.right = Node(val)\n",
    "                        break\n",
    "                else:\n",
    "                    break\n",
    "                    \n",
    "                    \n",
    "def print_list(head):\n",
    "    print(head.info, head.left, head.right, head.level)\n",
    "    if head.right:\n",
    "        print_list(head.right)\n",
    "    if head.left:\n",
    "        print_list(head.left)"
   ]
  },
  {
   "cell_type": "code",
   "execution_count": 20,
   "metadata": {
    "hidden": true
   },
   "outputs": [
    {
     "name": "stdout",
     "output_type": "stream",
     "text": [
      "3 2 5 None\n",
      "5 4 6 None\n",
      "6 None 7 None\n",
      "7 None None None\n",
      "4 None None None\n",
      "2 1 None None\n",
      "1 None None None\n"
     ]
    }
   ],
   "source": [
    "tree = BinarySearchTree()\n",
    "#t = int(input())\n",
    "t = 7\n",
    "\n",
    "#for _ in range(t):\n",
    "    #x = int(input())\n",
    "for x in [3, 2, 1, 5, 4, 6, 7]:\n",
    "    tree.create(x)\n",
    "    \n",
    "print_list(tree.root)"
   ]
  },
  {
   "cell_type": "markdown",
   "metadata": {
    "hidden": true
   },
   "source": [
    "## code"
   ]
  },
  {
   "cell_type": "code",
   "execution_count": 21,
   "metadata": {
    "hidden": true
   },
   "outputs": [],
   "source": [
    "def height(root, level=-1):\n",
    "    if not root:\n",
    "        return level\n",
    "    level += 1\n",
    "    return max(height(root.left, level), height(root.right, level))"
   ]
  },
  {
   "cell_type": "code",
   "execution_count": 22,
   "metadata": {
    "hidden": true
   },
   "outputs": [
    {
     "name": "stdout",
     "output_type": "stream",
     "text": [
      "3\n"
     ]
    }
   ],
   "source": [
    "print(height(tree.root))"
   ]
  },
  {
   "cell_type": "code",
   "execution_count": 23,
   "metadata": {
    "hidden": true
   },
   "outputs": [
    {
     "name": "stdout",
     "output_type": "stream",
     "text": [
      "4\n"
     ]
    }
   ],
   "source": [
    "tree = BinarySearchTree()\n",
    "t = 9\n",
    "for x in  [20, 50, 35, 44, 9, 15, 62, 11, 13]:\n",
    "    tree.create(x)\n",
    "print(height(tree.root))"
   ]
  },
  {
   "cell_type": "markdown",
   "metadata": {
    "heading_collapsed": true
   },
   "source": [
    "# Reverse a doubly linked list"
   ]
  },
  {
   "cell_type": "markdown",
   "metadata": {
    "hidden": true
   },
   "source": [
    "https://www.hackerrank.com/contests/miraidenshi-2-data-structure/challenges/reverse-a-doubly-linked-list"
   ]
  },
  {
   "cell_type": "markdown",
   "metadata": {
    "heading_collapsed": true,
    "hidden": true
   },
   "source": [
    "## Example"
   ]
  },
  {
   "cell_type": "markdown",
   "metadata": {
    "hidden": true
   },
   "source": [
    "Create nodes for the doubly linked list: NULL <-- 2 <--> 4 <--> 6 --> NULL"
   ]
  },
  {
   "cell_type": "code",
   "execution_count": 24,
   "metadata": {
    "hidden": true
   },
   "outputs": [],
   "source": [
    "class Node(object):\n",
    "    def __init__(self, data=None, next_node=None, prev_node = None):\n",
    "        self.data = data\n",
    "        self.next = next_node\n",
    "        self.prev = prev_node"
   ]
  },
  {
   "cell_type": "code",
   "execution_count": 25,
   "metadata": {
    "hidden": true
   },
   "outputs": [],
   "source": [
    "input00 = Node()\n",
    "input01 = Node(2, None, input00)\n",
    "input00.next = input01\n",
    "input04 = Node()\n",
    "input03 = Node(6, input04)\n",
    "input04.prev = input03\n",
    "input02 = Node(4, input03, input01)\n",
    "input01.next = input02\n",
    "input03.prev = input02"
   ]
  },
  {
   "cell_type": "markdown",
   "metadata": {
    "hidden": true
   },
   "source": [
    "Verify that the example matches the expected list"
   ]
  },
  {
   "cell_type": "code",
   "execution_count": 26,
   "metadata": {
    "hidden": true
   },
   "outputs": [],
   "source": [
    "def print_list(head, result=''):\n",
    "    arrow = ''\n",
    "    if head.data and head.next and head.next.data:\n",
    "        arrow = ' <--> '\n",
    "    elif head.next and head.next.data:\n",
    "        arrow = ' <-- '\n",
    "    elif head.data:\n",
    "        arrow = ' --> '\n",
    "    result += '{}{}'.format(head.data or 'NULL', arrow)\n",
    "    if head.next:\n",
    "        return print_list(head.next, result)\n",
    "    else:\n",
    "        return result"
   ]
  },
  {
   "cell_type": "code",
   "execution_count": 27,
   "metadata": {
    "hidden": true
   },
   "outputs": [
    {
     "name": "stdout",
     "output_type": "stream",
     "text": [
      "NULL <-- 2 <--> 4 <--> 6 --> NULL\n"
     ]
    }
   ],
   "source": [
    "print(print_list(input00))"
   ]
  },
  {
   "cell_type": "markdown",
   "metadata": {
    "heading_collapsed": true,
    "hidden": true
   },
   "source": [
    "## Code"
   ]
  },
  {
   "cell_type": "markdown",
   "metadata": {
    "hidden": true
   },
   "source": [
    "```\n",
    "Reverse NULL:\n",
    "     input00 = [None, Node(2), None] \n",
    "⇒ newInput00 = [None, None, Node(2)]\n",
    "\n",
    "Reverse 2:\n",
    "     input01 = [2, None, input00]\n",
    "⇒ newInput01 = [2, newInput00, None]\n",
    "```\n",
    "\n",
    "Therefore, the reverse function should swap prev & head, then call reverse on the next element while giving it the reverse current node as new neighbor"
   ]
  },
  {
   "cell_type": "code",
   "execution_count": 28,
   "metadata": {
    "hidden": true
   },
   "outputs": [],
   "source": [
    "def Reverse(head):\n",
    "    reversed_head = Node(head.data, head.prev, head.next)\n",
    "    if not head.next:\n",
    "        return reversed_head\n",
    "    head.next.prev = reversed_head\n",
    "    return Reverse(head.next)"
   ]
  },
  {
   "cell_type": "markdown",
   "metadata": {
    "heading_collapsed": true,
    "hidden": true
   },
   "source": [
    "## Test"
   ]
  },
  {
   "cell_type": "markdown",
   "metadata": {
    "hidden": true
   },
   "source": [
    "Now, Test the reverse function"
   ]
  },
  {
   "cell_type": "code",
   "execution_count": 29,
   "metadata": {
    "hidden": true
   },
   "outputs": [],
   "source": [
    "assert print_list(Reverse(input00)) == 'NULL <-- 6 <--> 4 <--> 2 --> NULL'"
   ]
  },
  {
   "cell_type": "markdown",
   "metadata": {
    "heading_collapsed": true
   },
   "source": [
    "# Roads and Libraries"
   ]
  },
  {
   "cell_type": "markdown",
   "metadata": {
    "hidden": true
   },
   "source": [
    "https://www.hackerrank.com/contests/miraidenshi-2-data-structure/challenges/torque-and-development"
   ]
  },
  {
   "cell_type": "markdown",
   "metadata": {
    "hidden": true
   },
   "source": [
    "n cities 1 → n\n",
    "\n",
    "cities connected by m bidirectional roads\n",
    "\n",
    "citizen can access a library if:\n",
    "- their city contains a library\n",
    "- they can travel by road dfrom their city to one with a library\n",
    "\n",
    "cost to repair a road: c_road dollars\n",
    "\n",
    "cost to build a library: c_lib dollars\n",
    "\n",
    "⇒ find minimum cost of making libraries accessible to all citizen"
   ]
  },
  {
   "cell_type": "markdown",
   "metadata": {
    "heading_collapsed": true,
    "hidden": true
   },
   "source": [
    "## utils"
   ]
  },
  {
   "cell_type": "code",
   "execution_count": 30,
   "metadata": {
    "hidden": true
   },
   "outputs": [],
   "source": [
    "import networkx as nx\n",
    "from nxpd import draw\n",
    "\n",
    "def get_graph(cities, roads):\n",
    "    G = nx.DiGraph()\n",
    "    G.graph['dpi'] = 60\n",
    "    G.add_nodes_from(cities)\n",
    "    for road in roads:\n",
    "        road[-1].update({\n",
    "            'dir': 'both',\n",
    "            'arrowsize': 0.5,\n",
    "        })\n",
    "    G.add_edges_from(roads)\n",
    "    return G"
   ]
  },
  {
   "cell_type": "markdown",
   "metadata": {
    "heading_collapsed": true,
    "hidden": true
   },
   "source": [
    "## example 1"
   ]
  },
  {
   "cell_type": "code",
   "execution_count": 31,
   "metadata": {
    "hidden": true,
    "scrolled": true
   },
   "outputs": [
    {
     "data": {
      "image/png": "[encoded data removed]",
      "text/plain": [
       "<IPython.core.display.Image object>"
      ]
     },
     "execution_count": 31,
     "metadata": {},
     "output_type": "execute_result"
    }
   ],
   "source": [
    "q = 2  # number queries\n",
    "n = 3  # number cities\n",
    "m = 3  # number roads\n",
    "c_lib = 2 # cost to build library\n",
    "c_road = 1 # cost to repair road\n",
    "cities = [\n",
    "    (1, 2),\n",
    "    (3, 1),\n",
    "    (2, 3),\n",
    "]\n",
    "    \n",
    "roads = [[*t, {'style': 'dashed'}] for t in cities]\n",
    "draw(get_graph(range(1, n+1), roads), show='ipynb')"
   ]
  },
  {
   "cell_type": "markdown",
   "metadata": {
    "hidden": true
   },
   "source": [
    "Cheapest cost seems to build 1 library and repair 2 roads for a cost of 4"
   ]
  },
  {
   "cell_type": "code",
   "execution_count": 32,
   "metadata": {
    "hidden": true
   },
   "outputs": [
    {
     "data": {
      "image/png": "[encoded data removed]",
      "text/plain": [
       "<IPython.core.display.Image object>"
      ]
     },
     "execution_count": 32,
     "metadata": {},
     "output_type": "execute_result"
    }
   ],
   "source": [
    "solution_roads = roads[:]\n",
    "for idx in [0, 2]:\n",
    "    solution_roads[idx][-1] = {'style': 'filled', 'penwidth': 3}\n",
    "\n",
    "with_library = {'color': 'blue', 'style': 'filled', 'fillcolor': 'cyan'}\n",
    "\n",
    "solution_cities = [1, (2, with_library), 3]\n",
    "draw(get_graph(solution_cities, solution_roads), show='ipynb')"
   ]
  },
  {
   "cell_type": "markdown",
   "metadata": {
    "hidden": true
   },
   "source": [
    "What's the max cost possible ? "
   ]
  },
  {
   "cell_type": "code",
   "execution_count": 33,
   "metadata": {
    "hidden": true
   },
   "outputs": [
    {
     "name": "stdout",
     "output_type": "stream",
     "text": [
      "Max cost is building a Library in each city: 6\n"
     ]
    }
   ],
   "source": [
    "max_cost = n * c_lib\n",
    "print('Max cost is building a Library in each city: {}'.format(max_cost))"
   ]
  },
  {
   "cell_type": "markdown",
   "metadata": {
    "hidden": true
   },
   "source": [
    "If cLib < cRoad, then building a library in each city is the cheapest cost"
   ]
  },
  {
   "cell_type": "code",
   "execution_count": 34,
   "metadata": {
    "hidden": true
   },
   "outputs": [
    {
     "name": "stdout",
     "output_type": "stream",
     "text": [
      "we can find a cheaper cost\n"
     ]
    }
   ],
   "source": [
    "if c_lib < c_road:\n",
    "    print('cheapest cost is the same: {}'.format(max_cost))\n",
    "else:\n",
    "    print('we can find a cheaper cost')"
   ]
  },
  {
   "cell_type": "markdown",
   "metadata": {
    "heading_collapsed": true,
    "hidden": true
   },
   "source": [
    "## Code"
   ]
  },
  {
   "cell_type": "code",
   "execution_count": 35,
   "metadata": {
    "hidden": true
   },
   "outputs": [],
   "source": [
    "# Returns the size of the group\n",
    "def dfs_label(road_map, groups, current, label):\n",
    "    if groups[current] > -1:\n",
    "        return 0\n",
    "    groups[current] = label\n",
    "    total = 0\n",
    "    for neighbor in road_map[current]:\n",
    "        total += dfs_label(road_map, groups, neighbor, label)\n",
    "    return total + 1\n",
    "\n",
    "def find_min_group_cost(cost_lib, cost_road, group_size):\n",
    "    single_lib_cost = cost_lib + (cost_road * (group_size - 1))\n",
    "    multi_lib_cost = cost_lib * group_size\n",
    "    return min(single_lib_cost, multi_lib_cost)\n",
    "\n",
    "def find_min_cost(road_map, cost_lib, cost_road):\n",
    "    groups = list(map(lambda x: -1, road_map))\n",
    "    sizes = []\n",
    "    label = 0\n",
    "    for i in range(1, len(groups)):\n",
    "        if groups[i] == -1:\n",
    "            size = dfs_label(road_map, groups, i, label)\n",
    "            sizes.append(size)\n",
    "            label += 1\n",
    "    return sum(map(lambda s: find_min_group_cost(cost_lib, cost_road, s), sizes))\n",
    "\n",
    "\n",
    "def roadsAndLibraries(n, c_lib, c_road, roads):\n",
    "    max_cost = n * c_lib\n",
    "    # If repairing a road costs more than building a lib, return\n",
    "    if c_lib < c_road:\n",
    "        return max_cost\n",
    "    \n",
    "    road_map = [set() for i in range(n+1)]\n",
    "    for city_1, city_2 in roads:\n",
    "        road_map[city_1].add(city_2)\n",
    "        road_map[city_2].add(city_1)\n",
    "    \n",
    "    return find_min_cost(road_map, c_lib, c_road)\n",
    "    \n",
    "    "
   ]
  },
  {
   "cell_type": "code",
   "execution_count": 36,
   "metadata": {
    "hidden": true
   },
   "outputs": [
    {
     "name": "stdout",
     "output_type": "stream",
     "text": [
      "Cheapest cost is 4\n"
     ]
    }
   ],
   "source": [
    "cost = roadsAndLibraries(n, c_lib, c_road, cities)\n",
    "print('Cheapest cost is {}'.format(cost))"
   ]
  },
  {
   "cell_type": "code",
   "execution_count": null,
   "metadata": {
    "hidden": true
   },
   "outputs": [],
   "source": []
  }
 ],
 "metadata": {
  "kernelspec": {
   "display_name": "Python 3",
   "language": "python",
   "name": "python3"
  },
  "language_info": {
   "codemirror_mode": {
    "name": "ipython",
    "version": 3
   },
   "file_extension": ".py",
   "mimetype": "text/x-python",
   "name": "python",
   "nbconvert_exporter": "python",
   "pygments_lexer": "ipython3",
   "version": "3.6.4"
  },
  "tdd": {
   "colors": {},
   "moveMenuRight": true,
   "navigate_menu": true,
   "number_sections": false,
   "sideBar": true,
   "tdd_cell": false,
   "tdd_section_display": "block",
   "tdd_window_display": false,
   "threshold": 4
  }
 },
 "nbformat": 4,
 "nbformat_minor": 2
}
