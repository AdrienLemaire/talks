{
 "cells": [
  {
   "cell_type": "markdown",
   "metadata": {},
   "source": [
    "# Day 0: Hello, World."
   ]
  },
  {
   "cell_type": "markdown",
   "metadata": {
    "heading_collapsed": true
   },
   "source": [
    "# Day 1: Data Types"
   ]
  },
  {
   "cell_type": "markdown",
   "metadata": {
    "heading_collapsed": true
   },
   "source": [
    "# Day 2: Operators"
   ]
  },
  {
   "cell_type": "code",
   "execution_count": 68,
   "metadata": {
    "hidden": true
   },
   "outputs": [],
   "source": [
    "meal_cost = 12.0\n",
    "tip_percent = 20\n",
    "tax_percent = 8"
   ]
  },
  {
   "cell_type": "code",
   "execution_count": 69,
   "metadata": {
    "hidden": true
   },
   "outputs": [
    {
     "name": "stdout",
     "output_type": "stream",
     "text": [
      "The total meal cost is 15 dollars.\n"
     ]
    }
   ],
   "source": [
    "tip = meal_cost * tip_percent/100\n",
    "tax = meal_cost * tax_percent/100\n",
    "total_cost = round(meal_cost + tip + tax)\n",
    "print('The total meal cost is {} dollars.'.format(total_cost))"
   ]
  },
  {
   "cell_type": "markdown",
   "metadata": {
    "heading_collapsed": true
   },
   "source": [
    "# Day 3: Intro to Conditional Statements"
   ]
  },
  {
   "cell_type": "markdown",
   "metadata": {
    "hidden": true
   },
   "source": [
    "https://www.hackerrank.com/challenges/30-conditional-statements/problem"
   ]
  },
  {
   "cell_type": "code",
   "execution_count": 1,
   "metadata": {
    "hidden": true
   },
   "outputs": [],
   "source": [
    "input0 = 3\n",
    "output0 = \"Weird\"\n",
    "\n",
    "input1 = 24\n",
    "output1 = \"Not Weird\"\n",
    "\n",
    "input2 = 6\n",
    "output2 = \"Weird\"\n",
    "\n",
    "input3 = 2\n",
    "output3 = \"Not Weird\""
   ]
  },
  {
   "cell_type": "code",
   "execution_count": 4,
   "metadata": {
    "hidden": true
   },
   "outputs": [],
   "source": [
    "def check(n):\n",
    "    if n%2 != 0:\n",
    "        return 'Weird'\n",
    "    elif n >= 6 and n <= 20:\n",
    "        return 'Weird'\n",
    "    else:\n",
    "        return 'Not Weird'"
   ]
  },
  {
   "cell_type": "code",
   "execution_count": 3,
   "metadata": {
    "hidden": true
   },
   "outputs": [],
   "source": [
    "assert check(input0) == output0\n",
    "assert check(input1) == output1\n",
    "assert check(input2) == output2\n",
    "assert check(input3) == output3"
   ]
  },
  {
   "cell_type": "markdown",
   "metadata": {
    "heading_collapsed": true
   },
   "source": [
    "# Day 4: Class vs. Instance"
   ]
  },
  {
   "cell_type": "markdown",
   "metadata": {
    "hidden": true
   },
   "source": [
    "https://www.hackerrank.com/challenges/30-class-vs-instance/problem"
   ]
  },
  {
   "cell_type": "code",
   "execution_count": 2,
   "metadata": {
    "hidden": true
   },
   "outputs": [],
   "source": [
    "class Person:\n",
    "    def __init__(self, initialAge):\n",
    "        if initialAge >= 0:\n",
    "            self.age = initialAge\n",
    "        else:\n",
    "            self.age = 0\n",
    "            print('Age is not valid, setting age to 0.')\n",
    "        \n",
    "    def amIOld(self):\n",
    "        if self.age < 13:\n",
    "            print('You are young.')\n",
    "        elif self.age >= 13 and self.age < 18:\n",
    "            print('You are a teenager.')\n",
    "        else:\n",
    "            print('You are old.')\n",
    "    \n",
    "    def yearPasses(self):\n",
    "        self.age += 1"
   ]
  },
  {
   "cell_type": "markdown",
   "metadata": {
    "heading_collapsed": true
   },
   "source": [
    "# Day 5: Loops"
   ]
  },
  {
   "cell_type": "markdown",
   "metadata": {
    "hidden": true
   },
   "source": [
    "https://www.hackerrank.com/challenges/30-loops/problem"
   ]
  },
  {
   "cell_type": "code",
   "execution_count": 1,
   "metadata": {
    "hidden": true
   },
   "outputs": [],
   "source": [
    "input0 = 2"
   ]
  },
  {
   "cell_type": "code",
   "execution_count": 2,
   "metadata": {
    "hidden": true
   },
   "outputs": [],
   "source": [
    "def multiplication_table(nb):\n",
    "    for i in range(1, 11):\n",
    "        print('{} x {} = {}'.format(nb, i, nb*i))"
   ]
  },
  {
   "cell_type": "code",
   "execution_count": 3,
   "metadata": {
    "hidden": true
   },
   "outputs": [
    {
     "name": "stdout",
     "output_type": "stream",
     "text": [
      "2 x 1 = 2\n",
      "2 x 2 = 4\n",
      "2 x 3 = 6\n",
      "2 x 4 = 8\n",
      "2 x 5 = 10\n",
      "2 x 6 = 12\n",
      "2 x 7 = 14\n",
      "2 x 8 = 16\n",
      "2 x 9 = 18\n",
      "2 x 10 = 20\n"
     ]
    }
   ],
   "source": [
    "multiplication_table(input0)"
   ]
  },
  {
   "cell_type": "markdown",
   "metadata": {
    "heading_collapsed": true
   },
   "source": [
    "# Day 6: Let's Review"
   ]
  },
  {
   "cell_type": "code",
   "execution_count": 5,
   "metadata": {
    "hidden": true
   },
   "outputs": [],
   "source": [
    "input0 = \"\"\"2\n",
    "Hacker\n",
    "Rank\"\"\""
   ]
  },
  {
   "cell_type": "code",
   "execution_count": 6,
   "metadata": {
    "hidden": true
   },
   "outputs": [],
   "source": [
    "def even_odd_indexes(line):\n",
    "    even = \"\"\n",
    "    odd = \"\"\n",
    "    for i, char in enumerate(line):\n",
    "        if i == 0 or i%2 == 0:\n",
    "            even += char\n",
    "        else:\n",
    "            odd += char\n",
    "    print(' '.join([even, odd]))"
   ]
  },
  {
   "cell_type": "code",
   "execution_count": 8,
   "metadata": {
    "hidden": true
   },
   "outputs": [
    {
     "name": "stdout",
     "output_type": "stream",
     "text": [
      "Hce akr\n",
      "Rn ak\n"
     ]
    }
   ],
   "source": [
    "input_list = input0.split('\\n')\n",
    "nb_lines = input_list.pop(0)\n",
    "for line in input_list:\n",
    "    even_odd_indexes(line)"
   ]
  },
  {
   "cell_type": "markdown",
   "metadata": {
    "heading_collapsed": true,
    "hidden": true
   },
   "source": [
    "## answer"
   ]
  },
  {
   "cell_type": "code",
   "execution_count": 9,
   "metadata": {
    "hidden": true,
    "scrolled": true
   },
   "outputs": [
    {
     "ename": "KeyboardInterrupt",
     "evalue": "",
     "output_type": "error",
     "traceback": [
      "\u001b[0;31m---------------------------------------------------------------------------\u001b[0m",
      "\u001b[0;31mKeyboardInterrupt\u001b[0m                         Traceback (most recent call last)",
      "\u001b[0;32m/usr/lib/python3.6/site-packages/ipykernel/kernelbase.py\u001b[0m in \u001b[0;36m_input_request\u001b[0;34m(self, prompt, ident, parent, password)\u001b[0m\n\u001b[1;32m    729\u001b[0m             \u001b[0;32mtry\u001b[0m\u001b[0;34m:\u001b[0m\u001b[0;34m\u001b[0m\u001b[0m\n\u001b[0;32m--> 730\u001b[0;31m                 \u001b[0mident\u001b[0m\u001b[0;34m,\u001b[0m \u001b[0mreply\u001b[0m \u001b[0;34m=\u001b[0m \u001b[0mself\u001b[0m\u001b[0;34m.\u001b[0m\u001b[0msession\u001b[0m\u001b[0;34m.\u001b[0m\u001b[0mrecv\u001b[0m\u001b[0;34m(\u001b[0m\u001b[0mself\u001b[0m\u001b[0;34m.\u001b[0m\u001b[0mstdin_socket\u001b[0m\u001b[0;34m,\u001b[0m \u001b[0;36m0\u001b[0m\u001b[0;34m)\u001b[0m\u001b[0;34m\u001b[0m\u001b[0m\n\u001b[0m\u001b[1;32m    731\u001b[0m             \u001b[0;32mexcept\u001b[0m \u001b[0mException\u001b[0m\u001b[0;34m:\u001b[0m\u001b[0;34m\u001b[0m\u001b[0m\n",
      "\u001b[0;32m/usr/lib/python3.6/site-packages/jupyter_client/session.py\u001b[0m in \u001b[0;36mrecv\u001b[0;34m(self, socket, mode, content, copy)\u001b[0m\n\u001b[1;32m    802\u001b[0m         \u001b[0;32mtry\u001b[0m\u001b[0;34m:\u001b[0m\u001b[0;34m\u001b[0m\u001b[0m\n\u001b[0;32m--> 803\u001b[0;31m             \u001b[0mmsg_list\u001b[0m \u001b[0;34m=\u001b[0m \u001b[0msocket\u001b[0m\u001b[0;34m.\u001b[0m\u001b[0mrecv_multipart\u001b[0m\u001b[0;34m(\u001b[0m\u001b[0mmode\u001b[0m\u001b[0;34m,\u001b[0m \u001b[0mcopy\u001b[0m\u001b[0;34m=\u001b[0m\u001b[0mcopy\u001b[0m\u001b[0;34m)\u001b[0m\u001b[0;34m\u001b[0m\u001b[0m\n\u001b[0m\u001b[1;32m    804\u001b[0m         \u001b[0;32mexcept\u001b[0m \u001b[0mzmq\u001b[0m\u001b[0;34m.\u001b[0m\u001b[0mZMQError\u001b[0m \u001b[0;32mas\u001b[0m \u001b[0me\u001b[0m\u001b[0;34m:\u001b[0m\u001b[0;34m\u001b[0m\u001b[0m\n",
      "\u001b[0;32m/usr/lib/python3.6/site-packages/zmq/sugar/socket.py\u001b[0m in \u001b[0;36mrecv_multipart\u001b[0;34m(self, flags, copy, track)\u001b[0m\n\u001b[1;32m    394\u001b[0m         \"\"\"\n\u001b[0;32m--> 395\u001b[0;31m         \u001b[0mparts\u001b[0m \u001b[0;34m=\u001b[0m \u001b[0;34m[\u001b[0m\u001b[0mself\u001b[0m\u001b[0;34m.\u001b[0m\u001b[0mrecv\u001b[0m\u001b[0;34m(\u001b[0m\u001b[0mflags\u001b[0m\u001b[0;34m,\u001b[0m \u001b[0mcopy\u001b[0m\u001b[0;34m=\u001b[0m\u001b[0mcopy\u001b[0m\u001b[0;34m,\u001b[0m \u001b[0mtrack\u001b[0m\u001b[0;34m=\u001b[0m\u001b[0mtrack\u001b[0m\u001b[0;34m)\u001b[0m\u001b[0;34m]\u001b[0m\u001b[0;34m\u001b[0m\u001b[0m\n\u001b[0m\u001b[1;32m    396\u001b[0m         \u001b[0;31m# have first part already, only loop while more to receive\u001b[0m\u001b[0;34m\u001b[0m\u001b[0;34m\u001b[0m\u001b[0m\n",
      "\u001b[0;32mzmq/backend/cython/socket.pyx\u001b[0m in \u001b[0;36mzmq.backend.cython.socket.Socket.recv\u001b[0;34m()\u001b[0m\n",
      "\u001b[0;32mzmq/backend/cython/socket.pyx\u001b[0m in \u001b[0;36mzmq.backend.cython.socket.Socket.recv\u001b[0;34m()\u001b[0m\n",
      "\u001b[0;32mzmq/backend/cython/socket.pyx\u001b[0m in \u001b[0;36mzmq.backend.cython.socket._recv_copy\u001b[0;34m()\u001b[0m\n",
      "\u001b[0;32m/usr/lib/python3.6/site-packages/zmq/backend/cython/checkrc.pxd\u001b[0m in \u001b[0;36mzmq.backend.cython.checkrc._check_rc\u001b[0;34m()\u001b[0m\n",
      "\u001b[0;31mKeyboardInterrupt\u001b[0m: ",
      "\nDuring handling of the above exception, another exception occurred:\n",
      "\u001b[0;31mKeyboardInterrupt\u001b[0m                         Traceback (most recent call last)",
      "\u001b[0;32m<ipython-input-9-26423ef9e5a1>\u001b[0m in \u001b[0;36m<module>\u001b[0;34m()\u001b[0m\n\u001b[1;32m     10\u001b[0m \u001b[0;34m\u001b[0m\u001b[0m\n\u001b[1;32m     11\u001b[0m \u001b[0;34m\u001b[0m\u001b[0m\n\u001b[0;32m---> 12\u001b[0;31m \u001b[0mn\u001b[0m \u001b[0;34m=\u001b[0m \u001b[0mint\u001b[0m\u001b[0;34m(\u001b[0m\u001b[0minput\u001b[0m\u001b[0;34m(\u001b[0m\u001b[0;34m)\u001b[0m\u001b[0;34m.\u001b[0m\u001b[0mstrip\u001b[0m\u001b[0;34m(\u001b[0m\u001b[0;34m)\u001b[0m\u001b[0;34m)\u001b[0m\u001b[0;34m\u001b[0m\u001b[0m\n\u001b[0m\u001b[1;32m     13\u001b[0m \u001b[0;32mfor\u001b[0m \u001b[0mi\u001b[0m \u001b[0;32min\u001b[0m \u001b[0mrange\u001b[0m\u001b[0;34m(\u001b[0m\u001b[0mn\u001b[0m\u001b[0;34m)\u001b[0m\u001b[0;34m:\u001b[0m\u001b[0;34m\u001b[0m\u001b[0m\n\u001b[1;32m     14\u001b[0m     \u001b[0meven_odd_indexes\u001b[0m\u001b[0;34m(\u001b[0m\u001b[0minput\u001b[0m\u001b[0;34m(\u001b[0m\u001b[0;34m)\u001b[0m\u001b[0;34m.\u001b[0m\u001b[0mstrip\u001b[0m\u001b[0;34m(\u001b[0m\u001b[0;34m)\u001b[0m\u001b[0;34m)\u001b[0m\u001b[0;34m\u001b[0m\u001b[0m\n",
      "\u001b[0;32m/usr/lib/python3.6/site-packages/ipykernel/kernelbase.py\u001b[0m in \u001b[0;36mraw_input\u001b[0;34m(self, prompt)\u001b[0m\n\u001b[1;32m    703\u001b[0m             \u001b[0mself\u001b[0m\u001b[0;34m.\u001b[0m\u001b[0m_parent_ident\u001b[0m\u001b[0;34m,\u001b[0m\u001b[0;34m\u001b[0m\u001b[0m\n\u001b[1;32m    704\u001b[0m             \u001b[0mself\u001b[0m\u001b[0;34m.\u001b[0m\u001b[0m_parent_header\u001b[0m\u001b[0;34m,\u001b[0m\u001b[0;34m\u001b[0m\u001b[0m\n\u001b[0;32m--> 705\u001b[0;31m             \u001b[0mpassword\u001b[0m\u001b[0;34m=\u001b[0m\u001b[0;32mFalse\u001b[0m\u001b[0;34m,\u001b[0m\u001b[0;34m\u001b[0m\u001b[0m\n\u001b[0m\u001b[1;32m    706\u001b[0m         )\n\u001b[1;32m    707\u001b[0m \u001b[0;34m\u001b[0m\u001b[0m\n",
      "\u001b[0;32m/usr/lib/python3.6/site-packages/ipykernel/kernelbase.py\u001b[0m in \u001b[0;36m_input_request\u001b[0;34m(self, prompt, ident, parent, password)\u001b[0m\n\u001b[1;32m    733\u001b[0m             \u001b[0;32mexcept\u001b[0m \u001b[0mKeyboardInterrupt\u001b[0m\u001b[0;34m:\u001b[0m\u001b[0;34m\u001b[0m\u001b[0m\n\u001b[1;32m    734\u001b[0m                 \u001b[0;31m# re-raise KeyboardInterrupt, to truncate traceback\u001b[0m\u001b[0;34m\u001b[0m\u001b[0;34m\u001b[0m\u001b[0m\n\u001b[0;32m--> 735\u001b[0;31m                 \u001b[0;32mraise\u001b[0m \u001b[0mKeyboardInterrupt\u001b[0m\u001b[0;34m\u001b[0m\u001b[0m\n\u001b[0m\u001b[1;32m    736\u001b[0m             \u001b[0;32melse\u001b[0m\u001b[0;34m:\u001b[0m\u001b[0;34m\u001b[0m\u001b[0m\n\u001b[1;32m    737\u001b[0m                 \u001b[0;32mbreak\u001b[0m\u001b[0;34m\u001b[0m\u001b[0m\n",
      "\u001b[0;31mKeyboardInterrupt\u001b[0m: "
     ]
    }
   ],
   "source": [
    "def even_odd_indexes(line):\n",
    "    even = \"\"\n",
    "    odd = \"\"\n",
    "    for i, char in enumerate(line):\n",
    "        if i == 0 or i%2 == 0:\n",
    "            even += char\n",
    "        else:\n",
    "            odd += char\n",
    "    print(' '.join([even, odd]))\n",
    "    \n",
    "\n",
    "n = int(input().strip())\n",
    "for i in range(n):\n",
    "    even_odd_indexes(input().strip())"
   ]
  },
  {
   "cell_type": "code",
   "execution_count": null,
   "metadata": {
    "hidden": true
   },
   "outputs": [],
   "source": []
  },
  {
   "cell_type": "markdown",
   "metadata": {
    "heading_collapsed": true
   },
   "source": [
    "# Day 7: Arrays"
   ]
  },
  {
   "cell_type": "markdown",
   "metadata": {
    "hidden": true
   },
   "source": [
    "https://www.hackerrank.com/challenges/30-arrays/problem"
   ]
  },
  {
   "cell_type": "code",
   "execution_count": 10,
   "metadata": {
    "hidden": true
   },
   "outputs": [],
   "source": [
    "arr0 = [1, 4, 3, 2]"
   ]
  },
  {
   "cell_type": "code",
   "execution_count": 19,
   "metadata": {
    "hidden": true
   },
   "outputs": [
    {
     "name": "stdout",
     "output_type": "stream",
     "text": [
      "2 3 4 1\n"
     ]
    }
   ],
   "source": [
    "print(' '.join(map(lambda i: str(i), reversed(arr0))))"
   ]
  },
  {
   "cell_type": "markdown",
   "metadata": {
    "heading_collapsed": true
   },
   "source": [
    "# Day 8:  Dictionaries and Maps"
   ]
  },
  {
   "cell_type": "markdown",
   "metadata": {
    "hidden": true
   },
   "source": [
    "https://www.hackerrank.com/challenges/30-dictionaries-and-maps/problem"
   ]
  },
  {
   "cell_type": "code",
   "execution_count": 8,
   "metadata": {
    "hidden": true
   },
   "outputs": [],
   "source": [
    "n = 3\n",
    "lines = [\n",
    "    ('sam', '99912222'),\n",
    "    ('tom', '11122222'),\n",
    "    ('harry', '12299933'),\n",
    "]\n",
    "queries = ['sam', 'edward', 'harry']"
   ]
  },
  {
   "cell_type": "code",
   "execution_count": 9,
   "metadata": {
    "hidden": true
   },
   "outputs": [
    {
     "name": "stdout",
     "output_type": "stream",
     "text": [
      "sam=99912222\n",
      "Not found\n",
      "harry=12299933\n"
     ]
    }
   ],
   "source": [
    "phone_book = {}\n",
    "\n",
    "#n = int(input().strip())\n",
    "\n",
    "for i in range(n):\n",
    "    #name, phone_nb = input().strip().split()\n",
    "    name, phone_nb = lines[i]\n",
    "    \n",
    "    phone_book[name] = phone_nb\n",
    "    \n",
    "while 1:\n",
    "    try:\n",
    "        #query = input().strip()\n",
    "        query = queries.pop(0)\n",
    "    except (EOFError, IndexError):\n",
    "        break\n",
    "    if not query:\n",
    "        break\n",
    "    \n",
    "    if query in phone_book.keys():\n",
    "        print('='.join([query, phone_book[query]]))\n",
    "    else:\n",
    "        print('Not found')"
   ]
  },
  {
   "cell_type": "markdown",
   "metadata": {
    "heading_collapsed": true
   },
   "source": [
    "# Day 9: Recursion"
   ]
  },
  {
   "cell_type": "markdown",
   "metadata": {
    "hidden": true
   },
   "source": [
    "https://www.hackerrank.com/challenges/30-recursion/problem"
   ]
  },
  {
   "cell_type": "code",
   "execution_count": 1,
   "metadata": {
    "hidden": true
   },
   "outputs": [],
   "source": [
    "from math import factorial"
   ]
  },
  {
   "cell_type": "code",
   "execution_count": 2,
   "metadata": {
    "hidden": true
   },
   "outputs": [
    {
     "data": {
      "text/plain": [
       "6"
      ]
     },
     "execution_count": 2,
     "metadata": {},
     "output_type": "execute_result"
    }
   ],
   "source": [
    "factorial(3)"
   ]
  },
  {
   "cell_type": "code",
   "execution_count": 6,
   "metadata": {
    "hidden": true
   },
   "outputs": [
    {
     "name": "stdout",
     "output_type": "stream",
     "text": [
      "6\n"
     ]
    }
   ],
   "source": [
    "def factorial2(n):\n",
    "    if n == 1:\n",
    "        return 1\n",
    "    return n * factorial2(n-1)\n",
    "\n",
    "print(factorial2(3))"
   ]
  },
  {
   "cell_type": "markdown",
   "metadata": {
    "heading_collapsed": true
   },
   "source": [
    "# Day 10: Binary Numbers"
   ]
  },
  {
   "cell_type": "markdown",
   "metadata": {
    "hidden": true
   },
   "source": [
    "https://www.hackerrank.com/challenges/30-binary-numbers/problem"
   ]
  },
  {
   "cell_type": "code",
   "execution_count": 29,
   "metadata": {
    "hidden": true
   },
   "outputs": [],
   "source": [
    "def count_binary_ones(n):\n",
    "    nbin = bin(n)[2:]\n",
    "    max_ones = 0\n",
    "    cur_ones = 0\n",
    "    last_is_one = False\n",
    "    for i in nbin:\n",
    "        if i == '1':\n",
    "            cur_ones += 1\n",
    "            last_is_one = True\n",
    "        else:\n",
    "            cur_ones = 0\n",
    "            last_is_one = False\n",
    "        if cur_ones > max_ones:\n",
    "            max_ones = cur_ones\n",
    "\n",
    "    return max_ones"
   ]
  },
  {
   "cell_type": "code",
   "execution_count": 30,
   "metadata": {
    "hidden": true
   },
   "outputs": [],
   "source": [
    "assert count_binary_ones(5) == 1\n",
    "assert count_binary_ones(13) == 2"
   ]
  },
  {
   "cell_type": "code",
   "execution_count": 33,
   "metadata": {
    "hidden": true
   },
   "outputs": [],
   "source": [
    "#print(bin(439))\n",
    "#print(count_binary_ones(439))\n",
    "assert count_binary_ones(439) == 3"
   ]
  },
  {
   "cell_type": "markdown",
   "metadata": {
    "heading_collapsed": true
   },
   "source": [
    "# Day 11: 2D Arrays"
   ]
  },
  {
   "cell_type": "markdown",
   "metadata": {
    "hidden": true
   },
   "source": [
    "https://www.hackerrank.com/challenges/30-2d-arrays/problem"
   ]
  },
  {
   "cell_type": "code",
   "execution_count": 75,
   "metadata": {
    "hidden": true
   },
   "outputs": [],
   "source": [
    "input1 = [\n",
    "    [1, 1, 1, 0, 0, 0],\n",
    "    [0, 1, 0, 0, 0, 0],\n",
    "    [1, 1, 1, 0, 0, 0],\n",
    "    [0, 0, 0, 0, 0, 0],\n",
    "    [0, 0, 0, 0, 0, 0],\n",
    "    [0, 0, 0, 0, 0, 0],\n",
    "]\n",
    "output1 = 7\n",
    "\n",
    "input2 = [\n",
    "    [1, 1, 1, 0, 0, 0],\n",
    "    [0, 1, 0, 0, 0, 0],\n",
    "    [1, 1, 1, 0, 0, 0],\n",
    "    [0, 0, 2, 4, 4, 0],\n",
    "    [0, 0, 0, 2, 0, 0],\n",
    "    [0, 0, 1, 2, 4, 0],\n",
    "]\n",
    "output2 = 19"
   ]
  },
  {
   "cell_type": "markdown",
   "metadata": {
    "heading_collapsed": true,
    "hidden": true
   },
   "source": [
    "## Solution numpy"
   ]
  },
  {
   "cell_type": "code",
   "execution_count": 23,
   "metadata": {
    "hidden": true
   },
   "outputs": [],
   "source": [
    "import numpy as np"
   ]
  },
  {
   "cell_type": "code",
   "execution_count": 24,
   "metadata": {
    "hidden": true
   },
   "outputs": [],
   "source": [
    "hourglass = np.array([\n",
    "    [1, 1, 1],\n",
    "    [0, 1, 0],\n",
    "    [1, 1, 1],\n",
    "])\n",
    "input1 = np.array(input1)\n",
    "input2 = np.array(input2)"
   ]
  },
  {
   "cell_type": "code",
   "execution_count": 25,
   "metadata": {
    "hidden": true
   },
   "outputs": [
    {
     "data": {
      "text/plain": [
       "7"
      ]
     },
     "execution_count": 25,
     "metadata": {},
     "output_type": "execute_result"
    },
    {
     "data": {
      "text/plain": [
       "19"
      ]
     },
     "execution_count": 25,
     "metadata": {},
     "output_type": "execute_result"
    }
   ],
   "source": [
    "(input1[:3, :3] * hourglass).sum()\n",
    "(input2[-3:, -4:-1] * hourglass).sum()"
   ]
  },
  {
   "cell_type": "code",
   "execution_count": 26,
   "metadata": {
    "hidden": true
   },
   "outputs": [
    {
     "data": {
      "text/plain": [
       "(3, 3)"
      ]
     },
     "execution_count": 26,
     "metadata": {},
     "output_type": "execute_result"
    },
    {
     "data": {
      "text/plain": [
       "(6, 6)"
      ]
     },
     "execution_count": 26,
     "metadata": {},
     "output_type": "execute_result"
    }
   ],
   "source": [
    "hourglass.shape\n",
    "input1.shape"
   ]
  },
  {
   "cell_type": "code",
   "execution_count": 39,
   "metadata": {
    "hidden": true
   },
   "outputs": [],
   "source": [
    "def hourglass_sum(matrix, hourglass):\n",
    "    rows, cols = matrix.shape\n",
    "    width, height = hourglass.shape\n",
    "    max_sum = 0\n",
    "    \n",
    "    for i in range(rows - width + 1):\n",
    "        for j in range(cols - height + 1):\n",
    "            new_sum = matrix[i:i+width, j:j+height].sum()\n",
    "            if new_sum > max_sum:\n",
    "                max_sum = new_sum\n",
    "    \n",
    "    return max_sum"
   ]
  },
  {
   "cell_type": "code",
   "execution_count": 41,
   "metadata": {
    "hidden": true
   },
   "outputs": [
    {
     "data": {
      "text/plain": [
       "19"
      ]
     },
     "execution_count": 41,
     "metadata": {},
     "output_type": "execute_result"
    }
   ],
   "source": [
    "hourglass_sum(input2, hourglass)"
   ]
  },
  {
   "cell_type": "markdown",
   "metadata": {
    "hidden": true
   },
   "source": [
    "## Solution manual"
   ]
  },
  {
   "cell_type": "code",
   "execution_count": 78,
   "metadata": {
    "hidden": true
   },
   "outputs": [],
   "source": [
    "input3 = [\n",
    "    [-1, -1, 0, -9, -2, -2], \n",
    "    [-2, -1, -6, -8, -2, -5],\n",
    "    [-1, -1, -1, -2, -3, -4],\n",
    "    [-1, -9, -2, -4, -4, -5],\n",
    "    [-7, -3, -3, -2, -9, -9],\n",
    "    [-1, -3, -1, -2, -4, -5],\n",
    "]\n",
    "output3 = -6"
   ]
  },
  {
   "cell_type": "code",
   "execution_count": 81,
   "metadata": {
    "hidden": true
   },
   "outputs": [],
   "source": [
    "\n",
    "def hourglass_sum(matrix):\n",
    "    hourglass = [1, 1, 1, 0, 1, 0, 1, 1, 1]\n",
    "    rows, cols = 6, 6\n",
    "    width, height = 3, 3\n",
    "    max_sum = -9*7\n",
    "    \n",
    "    for i in range(rows - width + 1):\n",
    "        for j in range(cols - height + 1):\n",
    "            vector = sum([r[j:j+height] for r in matrix[i:i+width]], [])\n",
    "            vector.pop(5)\n",
    "            vector.pop(3)\n",
    "            new_sum = sum(vector)\n",
    "            if new_sum > max_sum:\n",
    "                max_sum = new_sum\n",
    "    \n",
    "    return max_sum"
   ]
  },
  {
   "cell_type": "code",
   "execution_count": 82,
   "metadata": {
    "hidden": true
   },
   "outputs": [
    {
     "name": "stdout",
     "output_type": "stream",
     "text": [
      "-6\n"
     ]
    }
   ],
   "source": [
    "print(hourglass_sum(input3))"
   ]
  },
  {
   "cell_type": "markdown",
   "metadata": {
    "heading_collapsed": true
   },
   "source": [
    "# Day 12: Inheritance"
   ]
  },
  {
   "cell_type": "markdown",
   "metadata": {
    "hidden": true
   },
   "source": [
    "https://www.hackerrank.com/challenges/30-inheritance/problem"
   ]
  },
  {
   "cell_type": "code",
   "execution_count": 2,
   "metadata": {
    "hidden": true
   },
   "outputs": [],
   "source": [
    "firstName1 = 'Heraldo'\n",
    "lastName1 = 'Memelli'\n",
    "id1 = 8135627\n",
    "nbScores1 = 2\n",
    "scores1 = [100, 80]"
   ]
  },
  {
   "cell_type": "code",
   "execution_count": 59,
   "metadata": {
    "hidden": true
   },
   "outputs": [],
   "source": [
    "class Person:\n",
    "    def __init__(self, firstName, lastName, idNumber):\n",
    "        self.firstName = firstName\n",
    "        self.lastName = lastName\n",
    "        self.idNumber = idNumber\n",
    "    def printPerson(self):\n",
    "        print(\"Name:\", self.lastName + \",\", self.firstName)\n",
    "        print(\"ID:\", self.idNumber)\n",
    "        \n",
    "        \n",
    "class Student(Person):\n",
    "    #   Class Constructor\n",
    "    #   \n",
    "    #   Parameters:\n",
    "    #   firstName - A string denoting the Person's first name.\n",
    "    #   lastName - A string denoting the Person's last name.\n",
    "    #   id - An integer denoting the Person's ID number.\n",
    "    #   scores - An array of integers denoting the Person's test scores.\n",
    "    #\n",
    "    # Write your constructor here\n",
    "    def __init__(self, firstName, lastName, idNumber, scores):\n",
    "        self.scores = scores\n",
    "        super().__init__(firstName, lastName, idNumber)\n",
    "    \n",
    "\n",
    "    #   Function Name: calculate\n",
    "    #   Return: A character denoting the grade.\n",
    "    #\n",
    "    # Write your function here\n",
    "    def calculate(self):\n",
    "        avg = sum(self.scores) / len(self.scores)\n",
    "        if avg < 40:\n",
    "            return 'T'\n",
    "        elif avg < 55:\n",
    "            return 'D'\n",
    "        elif avg < 70:\n",
    "            return 'P'\n",
    "        elif avg < 80:\n",
    "            return 'A'\n",
    "        elif avg < 90:\n",
    "            return 'E'\n",
    "        else:\n",
    "            return 'O'"
   ]
  },
  {
   "cell_type": "code",
   "execution_count": 60,
   "metadata": {
    "hidden": true
   },
   "outputs": [],
   "source": [
    "person1 = Student(firstName=firstName1, lastName=lastName1, idNumber=id1, scores=scores1)"
   ]
  },
  {
   "cell_type": "code",
   "execution_count": 61,
   "metadata": {
    "hidden": true
   },
   "outputs": [
    {
     "name": "stdout",
     "output_type": "stream",
     "text": [
      "Name: Memelli, Heraldo\n",
      "ID: 8135627\n",
      "Grade: O\n"
     ]
    }
   ],
   "source": [
    "person1.printPerson()\n",
    "print(\"Grade:\", person1.calculate())"
   ]
  },
  {
   "cell_type": "markdown",
   "metadata": {
    "heading_collapsed": true
   },
   "source": [
    "# Day 13: Abstract Classes"
   ]
  },
  {
   "cell_type": "markdown",
   "metadata": {
    "hidden": true
   },
   "source": [
    "https://www.hackerrank.com/challenges/30-abstract-classes/problem"
   ]
  },
  {
   "cell_type": "code",
   "execution_count": 2,
   "metadata": {
    "hidden": true
   },
   "outputs": [],
   "source": [
    "from abc import ABCMeta, abstractmethod\n",
    "class Book(object, metaclass=ABCMeta):\n",
    "    def __init__(self,title,author):\n",
    "        self.title=title\n",
    "        self.author=author   \n",
    "    @abstractmethod\n",
    "    def display(): pass"
   ]
  },
  {
   "cell_type": "code",
   "execution_count": 9,
   "metadata": {
    "hidden": true
   },
   "outputs": [],
   "source": [
    "class MyBook(Book):\n",
    "    def __init__(self, title, author, price):\n",
    "        super().__init__(title, author)\n",
    "        self.price = price\n",
    "        \n",
    "    def display(self):\n",
    "        print('Title: {}\\nAuthor: {}\\nPrice: {}'.format(\n",
    "            self.title, self.author, self.price))"
   ]
  },
  {
   "cell_type": "code",
   "execution_count": 10,
   "metadata": {
    "hidden": true
   },
   "outputs": [],
   "source": [
    "book1 = MyBook('The Alchemist', 'Paulo Coehlo', 248)"
   ]
  },
  {
   "cell_type": "code",
   "execution_count": 11,
   "metadata": {
    "hidden": true
   },
   "outputs": [
    {
     "name": "stdout",
     "output_type": "stream",
     "text": [
      "Title: The Alchemist\n",
      "Author: Paulo Coehlo\n",
      "Price: 248\n"
     ]
    }
   ],
   "source": [
    "book1.display()"
   ]
  },
  {
   "cell_type": "markdown",
   "metadata": {
    "heading_collapsed": true
   },
   "source": [
    "# Day 14: Scope"
   ]
  },
  {
   "cell_type": "markdown",
   "metadata": {
    "hidden": true
   },
   "source": [
    "https://www.hackerrank.com/challenges/30-scope/problem"
   ]
  },
  {
   "cell_type": "code",
   "execution_count": 13,
   "metadata": {
    "hidden": true
   },
   "outputs": [],
   "source": [
    "N1 = 3\n",
    "elements1 = [1, 2, 5]\n",
    "output1 = 4"
   ]
  },
  {
   "cell_type": "code",
   "execution_count": 27,
   "metadata": {
    "hidden": true
   },
   "outputs": [],
   "source": [
    "class Difference:\n",
    "    maximumDifference = 0\n",
    "    \n",
    "    def __init__(self, a):\n",
    "        self.__elements = a\n",
    "        \n",
    "    def computeDifference(self):\n",
    "        self.maximumDifference = abs(max(self.__elements) - min(self.__elements))"
   ]
  },
  {
   "cell_type": "code",
   "execution_count": 28,
   "metadata": {
    "hidden": true
   },
   "outputs": [
    {
     "name": "stdout",
     "output_type": "stream",
     "text": [
      "4\n"
     ]
    }
   ],
   "source": [
    "d = Difference(elements1)\n",
    "d.computeDifference()\n",
    "print(d.maximumDifference)"
   ]
  },
  {
   "cell_type": "markdown",
   "metadata": {
    "heading_collapsed": true
   },
   "source": [
    "# Day 15: Linked List"
   ]
  },
  {
   "cell_type": "markdown",
   "metadata": {
    "hidden": true
   },
   "source": [
    "https://www.hackerrank.com/challenges/30-linked-list/problem"
   ]
  },
  {
   "cell_type": "code",
   "execution_count": 4,
   "metadata": {
    "hidden": true
   },
   "outputs": [],
   "source": [
    "T1 = 4\n",
    "elements = [2, 3, 4, 1]"
   ]
  },
  {
   "cell_type": "code",
   "execution_count": 2,
   "metadata": {
    "hidden": true
   },
   "outputs": [],
   "source": [
    "class Node:\n",
    "    def __init__(self,data):\n",
    "        self.data = data\n",
    "        self.next = None "
   ]
  },
  {
   "cell_type": "code",
   "execution_count": 21,
   "metadata": {
    "hidden": true
   },
   "outputs": [],
   "source": [
    "class Solution: \n",
    "    def display(self,head):\n",
    "        current = head\n",
    "        while current:\n",
    "            print(current.data,end=' ')\n",
    "            current = current.next\n",
    "            \n",
    "    def insert(self, head, data):\n",
    "        if not head:\n",
    "            head = Node(data)\n",
    "        else:\n",
    "            tail = head.next\n",
    "            while 1:\n",
    "                if not tail:\n",
    "                    head.next = Node(data)\n",
    "                    break\n",
    "                if not tail.next:\n",
    "                    tail.next = Node(data)\n",
    "                    break\n",
    "                else:\n",
    "                    tail = tail.next\n",
    "        return head"
   ]
  },
  {
   "cell_type": "code",
   "execution_count": 22,
   "metadata": {
    "hidden": true
   },
   "outputs": [
    {
     "name": "stdout",
     "output_type": "stream",
     "text": [
      "2 3 4 1 "
     ]
    }
   ],
   "source": [
    "solution1 = Solution()\n",
    "head = None\n",
    "for element in elements:\n",
    "    head = solution1.insert(head, element)\n",
    "    \n",
    "solution1.display(head)"
   ]
  },
  {
   "cell_type": "markdown",
   "metadata": {
    "heading_collapsed": true
   },
   "source": [
    "# Day 16: Exceptions - String to Integer"
   ]
  },
  {
   "cell_type": "markdown",
   "metadata": {
    "hidden": true
   },
   "source": [
    "https://www.hackerrank.com/challenges/30-exceptions-string-to-integer/problem"
   ]
  },
  {
   "cell_type": "code",
   "execution_count": 1,
   "metadata": {
    "hidden": true
   },
   "outputs": [],
   "source": [
    "input0 = \"3\"\n",
    "output0 = 3\n",
    "\n",
    "input1 = \"za\"\n",
    "output1 = \"Bad String\""
   ]
  },
  {
   "cell_type": "code",
   "execution_count": 2,
   "metadata": {
    "hidden": true
   },
   "outputs": [],
   "source": [
    "def convert_int(number):\n",
    "    try:\n",
    "        print(int(number))\n",
    "    except:\n",
    "        print(\"Bad String\")"
   ]
  },
  {
   "cell_type": "code",
   "execution_count": 4,
   "metadata": {
    "hidden": true
   },
   "outputs": [
    {
     "name": "stdout",
     "output_type": "stream",
     "text": [
      "3\n",
      "Bad String\n"
     ]
    }
   ],
   "source": [
    "convert_int(input0)\n",
    "convert_int(input1)"
   ]
  },
  {
   "cell_type": "markdown",
   "metadata": {
    "heading_collapsed": true
   },
   "source": [
    "# Day 17: More Exceptions"
   ]
  },
  {
   "cell_type": "markdown",
   "metadata": {
    "hidden": true
   },
   "source": [
    "https://www.hackerrank.com/challenges/30-more-exceptions/problem"
   ]
  },
  {
   "cell_type": "code",
   "execution_count": 5,
   "metadata": {
    "hidden": true
   },
   "outputs": [],
   "source": [
    "class Calculator(object):\n",
    "    def power(self, n, p):\n",
    "        if n < 0 or p < 0:\n",
    "            raise Exception('n and p should be non-negative')\n",
    "        return n**p"
   ]
  },
  {
   "cell_type": "code",
   "execution_count": 7,
   "metadata": {
    "hidden": true
   },
   "outputs": [
    {
     "name": "stdout",
     "output_type": "stream",
     "text": [
      "8\n"
     ]
    }
   ],
   "source": [
    "myCalculator=Calculator()\n",
    "#T=int(input())\n",
    "T = 1\n",
    "for i in range(T):\n",
    "    #n,p = map(int, input().split())\n",
    "    #n,p = -1, 1\n",
    "    n,p = 2,3\n",
    "    try:\n",
    "        ans=myCalculator.power(n,p)\n",
    "        print(ans)\n",
    "    except Exception as e:\n",
    "        print(e)   "
   ]
  },
  {
   "cell_type": "markdown",
   "metadata": {
    "heading_collapsed": true
   },
   "source": [
    "# Day 18: Queues and Stacks"
   ]
  },
  {
   "cell_type": "markdown",
   "metadata": {
    "hidden": true
   },
   "source": [
    "https://www.hackerrank.com/challenges/30-queues-stacks/problem"
   ]
  },
  {
   "cell_type": "code",
   "execution_count": 10,
   "metadata": {
    "hidden": true
   },
   "outputs": [],
   "source": [
    "class Solution:\n",
    "    stack = []\n",
    "    queue = []\n",
    "    \n",
    "    def pushCharacter(self, char):\n",
    "        '''pushes a character onto a stack.'''\n",
    "        self.stack.append(char)\n",
    "    \n",
    "    def enqueueCharacter(self, char):\n",
    "        ''' enqueues a character in the queue instance variable.'''\n",
    "        self.queue.append(char)\n",
    "    \n",
    "    def popCharacter(self):\n",
    "        '''pops and returns the character at the top of the stack instance variable.\n",
    "'''\n",
    "        return self.stack.pop()\n",
    "    \n",
    "    def dequeueCharacter(self):\n",
    "        '''dequeues and returns the first character in the queue instance variable.'''\n",
    "        return self.queue.pop(0)"
   ]
  },
  {
   "cell_type": "code",
   "execution_count": 11,
   "metadata": {
    "hidden": true
   },
   "outputs": [
    {
     "data": {
      "text/plain": [
       "'\\npop the top character from stack\\ndequeue the first character from queue\\ncompare both the characters\\n'"
      ]
     },
     "execution_count": 11,
     "metadata": {},
     "output_type": "execute_result"
    },
    {
     "name": "stdout",
     "output_type": "stream",
     "text": [
      "The word, racecar, is a palindrome.\n"
     ]
    }
   ],
   "source": [
    "# read the string s\n",
    "#s=input()\n",
    "s = 'racecar'\n",
    "#Create the Solution class object\n",
    "obj=Solution()   \n",
    "\n",
    "l=len(s)\n",
    "# push/enqueue all the characters of string s to stack\n",
    "for i in range(l):\n",
    "    obj.pushCharacter(s[i])\n",
    "    obj.enqueueCharacter(s[i])\n",
    "    \n",
    "isPalindrome=True\n",
    "'''\n",
    "pop the top character from stack\n",
    "dequeue the first character from queue\n",
    "compare both the characters\n",
    "''' \n",
    "for i in range(l // 2):\n",
    "    if obj.popCharacter()!=obj.dequeueCharacter():\n",
    "        isPalindrome=False\n",
    "        break\n",
    "#finally print whether string s is palindrome or not.\n",
    "if isPalindrome:\n",
    "    print(\"The word, \"+s+\", is a palindrome.\")\n",
    "else:\n",
    "    print(\"The word, \"+s+\", is not a palindrome.\")    "
   ]
  },
  {
   "cell_type": "markdown",
   "metadata": {
    "heading_collapsed": true
   },
   "source": [
    "# Day 19: Interfaces"
   ]
  },
  {
   "cell_type": "markdown",
   "metadata": {
    "hidden": true
   },
   "source": [
    "https://www.hackerrank.com/challenges/30-interfaces/problem"
   ]
  },
  {
   "cell_type": "markdown",
   "metadata": {
    "hidden": true
   },
   "source": [
    "20 divisible by 1, 2, 4, 5, 10 (and 20)\n",
    "\n",
    "range of numbers from 1 to N/2 and add N"
   ]
  },
  {
   "cell_type": "markdown",
   "metadata": {
    "hidden": true
   },
   "source": [
    "```php\n",
    "<?php\n",
    "interface AdvancedArithmetic{\n",
    "    public function divisorSum($n);\n",
    "}\n",
    "\n",
    "//Write your code here\n",
    "class Calculator implements AdvancedArithmetic {\n",
    "    public function divisorSum($n) {\n",
    "        $sum = $n;\n",
    "        for ($i = 1; $i <= $n/2; $i++) {\n",
    "            if ($n % $i == 0) {\n",
    "                //echo \"adding $i\";\n",
    "                $sum += $i;\n",
    "            }\n",
    "        }\n",
    "        return $sum;\n",
    "    }\n",
    "}\n",
    "//End code\n",
    "\n",
    "$n=intval(fgets(STDIN));\n",
    "$myCalculator=new Calculator();\n",
    "if($myCalculator instanceof AdvancedArithmetic)//checking if Calculator has implemented AdvancedArithemtic\n",
    "{\n",
    "    $sum=$myCalculator->divisorSum($n);\n",
    "    echo \"I implemented: AdvancedArithmetic\\n\".$sum;\n",
    "}\n",
    "else\n",
    "{\n",
    "    echo \"Wrong answer\";// You will get this output if you dont implement\n",
    "}\n",
    "?>\n",
    "```"
   ]
  },
  {
   "cell_type": "markdown",
   "metadata": {
    "heading_collapsed": true
   },
   "source": [
    "# Day 20: Sorting"
   ]
  },
  {
   "cell_type": "markdown",
   "metadata": {
    "hidden": true
   },
   "source": [
    "https://www.hackerrank.com/challenges/30-sorting/problem"
   ]
  },
  {
   "cell_type": "markdown",
   "metadata": {
    "hidden": true
   },
   "source": [
    "**Bubble sort algorithm:**\n",
    "\n",
    "- very inefficient, not practical\n",
    "- take an array of integers and iterate through it\n",
    "- for each element at index i whose value > value of i+1, swap the 2 values\n",
    "\n",
    "⇒ The act of swapping these values causes the larger, unsorted values to float to the back (like a bubble) of the data structure until they land in the correct location. "
   ]
  },
  {
   "cell_type": "markdown",
   "metadata": {
    "heading_collapsed": true,
    "hidden": true
   },
   "source": [
    "## Bubble sort implementation"
   ]
  },
  {
   "cell_type": "code",
   "execution_count": 37,
   "metadata": {
    "hidden": true
   },
   "outputs": [],
   "source": [
    "class Sorting(object):\n",
    "    def __init__(self, n=None, unsorted=None):\n",
    "        if not n:\n",
    "            n = int(input().strip())\n",
    "        if not unsorted:\n",
    "            unsorted = [int(input().strip()) for i in range(n)]\n",
    "        self.bubbleSort(unsorted)\n",
    "    \n",
    "    def printArray(self, string, array):\n",
    "        print('{} Array: {}'.format(string, ' '.join(map(str, array))))\n",
    "        \n",
    "    def bubbleSort(self, array):\n",
    "        self.printArray('Initial', array)\n",
    "        endPosition = len(array) - 1\n",
    "        \n",
    "        while endPosition > 0:\n",
    "            swapPosition = 0\n",
    "            for i in range(endPosition):\n",
    "                if array[i] > array[i+1]:\n",
    "                    array[i:i+2] = array[i+1], array[i]\n",
    "                    swapPosition = i\n",
    "                self.printArray('Current', array)\n",
    "            endPosition = swapPosition\n",
    "        self.printArray('Sorted', array)"
   ]
  },
  {
   "cell_type": "code",
   "execution_count": 40,
   "metadata": {
    "hidden": true
   },
   "outputs": [
    {
     "name": "stdout",
     "output_type": "stream",
     "text": [
      "Initial Array: 3 2 1\n",
      "Current Array: 2 3 1\n",
      "Current Array: 2 1 3\n",
      "Current Array: 1 2 3\n",
      "Sorted Array: 1 2 3\n"
     ]
    }
   ],
   "source": [
    "example0 = Sorting(3, [3, 2, 1])"
   ]
  },
  {
   "cell_type": "markdown",
   "metadata": {
    "hidden": true
   },
   "source": [
    "## Challenge solution"
   ]
  },
  {
   "cell_type": "code",
   "execution_count": 50,
   "metadata": {
    "hidden": true
   },
   "outputs": [],
   "source": [
    "class Sorting(object):\n",
    "    def __init__(self, n=None, unsorted=None, debug=False):\n",
    "        self.debug = debug\n",
    "        self.numberOfSwaps = 0\n",
    "        \n",
    "        if not n:\n",
    "            n = int(input().strip())\n",
    "        if not unsorted:\n",
    "            unsorted = [int(input().strip()) for i in range(n)]\n",
    "        array = self.bubbleSort(unsorted)\n",
    "        \n",
    "        print('Array is sorted in {} swaps.'.format(self.numberOfSwaps))\n",
    "        print('First Element: {}'.format(array[0]))\n",
    "        print('Last Element: {}'.format(array[-1]))\n",
    "        \n",
    "    \n",
    "    def printArray(self, string, array):\n",
    "        if self.debug:\n",
    "            print('{} Array: {}'.format(string, ' '.join(map(str, array))))\n",
    "        \n",
    "    def swap(self, slicedArray):\n",
    "        self.numberOfSwaps += 1\n",
    "        return slicedArray[-1], slicedArray[0]\n",
    "        \n",
    "    def bubbleSort(self, array):\n",
    "        self.printArray('Initial', array)\n",
    "        endPosition = len(array) - 1\n",
    "        \n",
    "        while endPosition > 0:\n",
    "            swapPosition = 0\n",
    "            for i in range(endPosition):\n",
    "                if array[i] > array[i+1]:\n",
    "                    array[i:i+2] = self.swap(array[i:i+2])\n",
    "                    swapPosition = i\n",
    "                self.printArray('Current', array)\n",
    "            endPosition = swapPosition\n",
    "        self.printArray('Sorted', array)\n",
    "        return array"
   ]
  },
  {
   "cell_type": "code",
   "execution_count": 52,
   "metadata": {
    "hidden": true
   },
   "outputs": [
    {
     "name": "stdout",
     "output_type": "stream",
     "text": [
      "Array is sorted in 3 swaps\n",
      "First Element: 1\n",
      "Last Element: 3\n"
     ]
    }
   ],
   "source": [
    "example0 = Sorting(3, [3, 2, 1], debug=False)\n",
    "\n",
    "# Sorting()"
   ]
  },
  {
   "cell_type": "markdown",
   "metadata": {
    "heading_collapsed": true
   },
   "source": [
    "# Day 21: Generics"
   ]
  },
  {
   "cell_type": "markdown",
   "metadata": {
    "hidden": true
   },
   "source": [
    "https://www.hackerrank.com/challenges/30-generics/problem"
   ]
  },
  {
   "cell_type": "markdown",
   "metadata": {
    "hidden": true
   },
   "source": [
    "```java\n",
    "import java.util.*;\n",
    "\n",
    "class Printer <T> {\n",
    "        /**\n",
    "    *    Method Name: printArray\n",
    "    *    Print each element of the generic array on a new line. Do not return anything.\n",
    "    *    @param A generic array\n",
    "    **/\n",
    "    \n",
    "    // Write your code here\n",
    "    public void printArray(T[] genericArray) {\n",
    "        for (int i = 0; i < genericArray.length; i++) {\n",
    "        System.out.println(genericArray[i]);\n",
    "        }\n",
    "    }\n",
    "    \n",
    "    // End code\n",
    "\n",
    "}\n",
    "\n",
    "public class Generics {\n",
    "    \n",
    "    public static void main(String args[]){\n",
    "        Scanner scanner = new Scanner(System.in);\n",
    "        int n = scanner.nextInt();\n",
    "        Integer[] intArray = new Integer[n];\n",
    "        for (int i = 0; i < n; i++) {\n",
    "            intArray[i] = scanner.nextInt();\n",
    "        }\n",
    "\n",
    "        n = scanner.nextInt();\n",
    "        String[] stringArray = new String[n];\n",
    "        for (int i = 0; i < n; i++) {\n",
    "            stringArray[i] = scanner.next();\n",
    "        }\n",
    "        \n",
    "        Printer<Integer> intPrinter = new Printer<Integer>();\n",
    "        Printer<String> stringPrinter = new Printer<String>();\n",
    "        intPrinter.printArray( intArray  );\n",
    "        stringPrinter.printArray( stringArray );\n",
    "        if(Printer.class.getDeclaredMethods().length > 1){\n",
    "            System.out.println(\"The Printer class should only have 1 method named printArray.\");\n",
    "        }\n",
    "    } \n",
    "}\n",
    "```"
   ]
  },
  {
   "cell_type": "markdown",
   "metadata": {
    "heading_collapsed": true
   },
   "source": [
    "# Day 22: Binary Search Trees"
   ]
  },
  {
   "cell_type": "markdown",
   "metadata": {
    "hidden": true
   },
   "source": [
    "https://www.hackerrank.com/challenges/30-binary-search-trees/problem\n",
    "\n",
    "The height of a binary search tree is the number of edges between the tree's root and its furthest leaf."
   ]
  },
  {
   "cell_type": "code",
   "execution_count": 36,
   "metadata": {
    "hidden": true
   },
   "outputs": [],
   "source": [
    "class Node:\n",
    "    def __init__(self,data):\n",
    "        self.right = self.left = None\n",
    "        self.data = data\n",
    "\n",
    "\n",
    "class Solution:\n",
    "    def insert(self, root, data):\n",
    "        if root == None:\n",
    "            return Node(data)\n",
    "        else:\n",
    "            if data <= root.data:\n",
    "                cur = self.insert(root.left, data)\n",
    "                root.left = cur\n",
    "            else:\n",
    "                cur = self.insert(root.right, data)\n",
    "                root.right = cur\n",
    "        return root\n",
    "    \n",
    "    def printTree(self, root):\n",
    "        if root.right:\n",
    "            print(root.data, '→', root.right.data)\n",
    "            self.printTree(root.right)\n",
    "        if root.left:\n",
    "            print(root.data, '←', root.left.data)\n",
    "            self.printTree(root.left)\n",
    "    \n",
    "    def getHeight(self, root):\n",
    "        def loop(node, level=0): \n",
    "            if not node:\n",
    "                return level - 1\n",
    "            \n",
    "            left = loop(node.left, level+1)\n",
    "            right = loop(node.right, level+1)\n",
    "            return max([left, right])\n",
    "        \n",
    "        return loop(root)\n",
    "        \n",
    "    "
   ]
  },
  {
   "cell_type": "markdown",
   "metadata": {
    "hidden": true
   },
   "source": [
    "## Test 1"
   ]
  },
  {
   "cell_type": "code",
   "execution_count": 37,
   "metadata": {
    "hidden": true
   },
   "outputs": [
    {
     "name": "stdout",
     "output_type": "stream",
     "text": [
      "3 → 5\n",
      "5 → 6\n",
      "6 → 7\n",
      "5 ← 4\n",
      "3 ← 2\n",
      "2 ← 1\n",
      "-----\n",
      "3\n"
     ]
    }
   ],
   "source": [
    "#T=int(input())\n",
    "T = 7\n",
    "myTree = Solution()\n",
    "root = None\n",
    "nodes = [3, 5, 2, 1, 4, 6, 7]\n",
    "for i in range(T):\n",
    "    #data=int(input())\n",
    "    data = nodes[i]\n",
    "    root = myTree.insert(root, data)\n",
    "myTree.printTree(root)\n",
    "print('-----')\n",
    "height = myTree.getHeight(root)\n",
    "print(height)   "
   ]
  },
  {
   "cell_type": "markdown",
   "metadata": {
    "heading_collapsed": true,
    "hidden": true
   },
   "source": [
    "## Test 2"
   ]
  },
  {
   "cell_type": "code",
   "execution_count": 38,
   "metadata": {
    "hidden": true
   },
   "outputs": [
    {
     "name": "stdout",
     "output_type": "stream",
     "text": [
      "20 → 50\n",
      "50 → 62\n",
      "50 ← 35\n",
      "35 → 44\n",
      "20 ← 9\n",
      "9 → 15\n",
      "15 ← 11\n",
      "11 → 13\n",
      "-----\n",
      "4\n"
     ]
    }
   ],
   "source": [
    "T = 9\n",
    "myTree = Solution()\n",
    "root = None\n",
    "nodes = [20, 50, 35, 44, 9, 15, 62, 11, 13]\n",
    "for i in range(T):\n",
    "    data = nodes[i]\n",
    "    root = myTree.insert(root, data)\n",
    "myTree.printTree(root)\n",
    "print('-----')\n",
    "height = myTree.getHeight(root)\n",
    "print(height)  \n",
    "assert height == 4"
   ]
  },
  {
   "cell_type": "markdown",
   "metadata": {
    "heading_collapsed": true
   },
   "source": [
    "# Day 23: BST Level-Order Traversal"
   ]
  },
  {
   "cell_type": "markdown",
   "metadata": {
    "heading_collapsed": true,
    "hidden": true
   },
   "source": [
    "## Notes"
   ]
  },
  {
   "cell_type": "markdown",
   "metadata": {
    "hidden": true
   },
   "source": [
    "https://www.hackerrank.com/challenges/30-binary-trees/problem\n",
    "\n",
    "Tutorial: https://www.hackerrank.com/challenges/30-binary-trees/tutorial\n",
    "* **InOrder Traversal:** left-root-right\n",
    "    ```\n",
    "    inOrder(t) {\n",
    "        if(t is not empty) {\n",
    "            inOrder( left subtree of t )\n",
    "            process t's root element\n",
    "            inOrder( right subtree of t )\n",
    "        } \n",
    "    } \n",
    "    ```\n",
    "* **PostOrder Traversal:** left-right-root\n",
    "    ```\n",
    "    postOrder(t) {\n",
    "        if(t is not empty) {\n",
    "            postOrder( left subtree of t )\n",
    "            postOrder( right subtree of t )\n",
    "            process t's root element\n",
    "        } \n",
    "    } \n",
    "    ```\n",
    "* **PreOrder Traversal (DFS):** root-left-right\n",
    "    ```\n",
    "    preOrder(t) {\n",
    "        if(t is not empty) {\n",
    "            process t's root element\n",
    "            preOrder( left subtree of t )\n",
    "            preOrder( right subtree of t )\n",
    "        } \n",
    "    } \n",
    "    ```\n",
    "* **Level-Order Traversal (BFS):** top-bottom, left-right\n",
    "    ```\n",
    "    levelOrder(BinaryTree t) {\n",
    "        if(t is not empty) {\n",
    "            // enqueue current root\n",
    "            queue.enqueue(t)\n",
    "\n",
    "            // while there are nodes to process\n",
    "            while( queue is not empty ) {\n",
    "                // dequeue next node\n",
    "                BinaryTree tree = queue.dequeue();\n",
    "\n",
    "                process tree's root;\n",
    "\n",
    "                // enqueue child elements from next level in order\n",
    "                if( tree has non-empty left subtree ) {\n",
    "                    queue.enqueue( left subtree of t )\n",
    "                }\n",
    "                if( tree has non-empty right subtree ) {\n",
    "                    queue.enqueue( right subtree of t )\n",
    "                }\n",
    "            }\n",
    "        } \n",
    "    } \n",
    "    ```"
   ]
  },
  {
   "cell_type": "markdown",
   "metadata": {
    "heading_collapsed": true,
    "hidden": true
   },
   "source": [
    "## Code"
   ]
  },
  {
   "cell_type": "code",
   "execution_count": 68,
   "metadata": {
    "hidden": true
   },
   "outputs": [],
   "source": [
    "import sys\n",
    "\n",
    "class Node:\n",
    "    def __init__(self,data):\n",
    "        self.right = self.left = None\n",
    "        self.data = data\n",
    "        \n",
    "        \n",
    "class Solution:\n",
    "    \n",
    "    def insert(self, root, data):\n",
    "        if root == None:\n",
    "            return Node(data)\n",
    "        else:\n",
    "            if data <= root.data:\n",
    "                cur = self.insert(root.left, data)\n",
    "                root.left = cur\n",
    "            else:\n",
    "                cur = self.insert(root.right, data)\n",
    "                root.right = cur\n",
    "        return root\n",
    "    \n",
    "    def inOrder(self, t):\n",
    "        if t:\n",
    "            self.inOrder(t.left)\n",
    "            sys.stdout.write('{} '.format(t.data))\n",
    "            self.inOrder(t.right)\n",
    "\n",
    "    def postOrder(self, t):\n",
    "        if t:\n",
    "            self.postOrder(t.left)\n",
    "            self.postOrder(t.right)\n",
    "            sys.stdout.write('{} '.format(t.data))\n",
    "            \n",
    "    def preOrder(self, t):\n",
    "        if t:\n",
    "            sys.stdout.write('{} '.format(t.data))\n",
    "            self.preOrder(t.left)\n",
    "            self.preOrder(t.right)\n",
    "            \n",
    "    def levelOrder(self, root):\n",
    "        queue = []\n",
    "        if root:\n",
    "            queue.append(root)\n",
    "            \n",
    "            while queue:\n",
    "                tree = queue.pop(0)\n",
    "                sys.stdout.write('{} '.format(tree.data))\n",
    "                if tree.left:\n",
    "                    queue.append(tree.left)\n",
    "                if tree.right:\n",
    "                    queue.append(tree.right)"
   ]
  },
  {
   "cell_type": "markdown",
   "metadata": {
    "heading_collapsed": true,
    "hidden": true
   },
   "source": [
    "## Tests"
   ]
  },
  {
   "cell_type": "code",
   "execution_count": 69,
   "metadata": {
    "hidden": true
   },
   "outputs": [
    {
     "name": "stdout",
     "output_type": "stream",
     "text": [
      "1 2 3 4 5 6 7 \n",
      "1 3 2 5 7 6 4 \n",
      "4 2 1 3 6 5 7 \n",
      "4 2 6 1 3 5 7 "
     ]
    }
   ],
   "source": [
    "#T=int(input())\n",
    "T = 7\n",
    "input0 = [4, 2, 3, 1, 6, 7, 5]\n",
    "myTree = Solution()\n",
    "root = None\n",
    "for i in range(T):\n",
    "    #data=int(input())\n",
    "    data = input0[i]\n",
    "    root = myTree.insert(root, data)\n",
    "\n",
    "myTree.inOrder(root)\n",
    "print()\n",
    "myTree.postOrder(root)\n",
    "print()\n",
    "myTree.preOrder(root)\n",
    "print()\n",
    "myTree.levelOrder(root)"
   ]
  },
  {
   "cell_type": "code",
   "execution_count": 70,
   "metadata": {
    "hidden": true
   },
   "outputs": [
    {
     "name": "stdout",
     "output_type": "stream",
     "text": [
      "3 2 5 1 4 7 \n"
     ]
    }
   ],
   "source": [
    "# Test 2\n",
    "myTree = Solution()\n",
    "root = None\n",
    "for data in [3, 5, 4, 7, 2, 1]:\n",
    "    root = myTree.insert(root, data)\n",
    "myTree.levelOrder(root)\n",
    "print()"
   ]
  },
  {
   "cell_type": "markdown",
   "metadata": {
    "heading_collapsed": true
   },
   "source": [
    "# Day 24: More Linked Lists"
   ]
  },
  {
   "cell_type": "markdown",
   "metadata": {
    "hidden": true
   },
   "source": [
    "https://www.hackerrank.com/challenges/30-linked-list-deletion/problem"
   ]
  },
  {
   "cell_type": "code",
   "execution_count": 94,
   "metadata": {
    "hidden": true
   },
   "outputs": [],
   "source": [
    "class Node:\n",
    "    def __init__(self, data):\n",
    "        self.data = data\n",
    "        self.next = None \n",
    "    \n",
    "\n",
    "class Solution: \n",
    "    def insert(self, head, data):\n",
    "            p = Node(data)           \n",
    "            if head == None:\n",
    "                head = p\n",
    "            elif head.next == None:\n",
    "                head.next = p\n",
    "            else:\n",
    "                start = head\n",
    "                while(start.next != None):\n",
    "                    start = start.next\n",
    "                start.next = p\n",
    "            return head  \n",
    "        \n",
    "    def display(self, head):\n",
    "        current = head\n",
    "        while current:\n",
    "            print(current.data, end=' ')\n",
    "            current = current.next\n",
    "            \n",
    "    def removeDuplicates(self, head):\n",
    "        def loop(t):\n",
    "            if t and t.next:\n",
    "                if t.data == t.next.data:\n",
    "                    t.next = t.next.next\n",
    "                    return loop(t)\n",
    "                return loop(t.next)\n",
    "        loop(head)\n",
    "        return head\n",
    "            "
   ]
  },
  {
   "cell_type": "markdown",
   "metadata": {
    "heading_collapsed": true,
    "hidden": true
   },
   "source": [
    "## Tests"
   ]
  },
  {
   "cell_type": "code",
   "execution_count": 95,
   "metadata": {
    "hidden": true
   },
   "outputs": [
    {
     "name": "stdout",
     "output_type": "stream",
     "text": [
      "1 2 3 4 "
     ]
    }
   ],
   "source": [
    "mylist = Solution()\n",
    "#T=int(input())\n",
    "T = 6\n",
    "input0 = [1, 2, 2, 3, 3, 4]\n",
    "head = None\n",
    "for i in range(T):\n",
    "    #data=int(input())\n",
    "    data = input0[i]\n",
    "    head = mylist.insert(head, data)    \n",
    "head = mylist.removeDuplicates(head)\n",
    "mylist.display(head);"
   ]
  },
  {
   "cell_type": "code",
   "execution_count": 96,
   "metadata": {
    "hidden": true
   },
   "outputs": [
    {
     "name": "stdout",
     "output_type": "stream",
     "text": [
      "7 1 "
     ]
    }
   ],
   "source": [
    "# Test 2\n",
    "mylist = Solution()\n",
    "head = None\n",
    "for data in [7, 1, 1, 1, 1, 1, 1, 1]:\n",
    "    head = mylist.insert(head, data)\n",
    "head = mylist.removeDuplicates(head)\n",
    "mylist.display(head);"
   ]
  },
  {
   "cell_type": "markdown",
   "metadata": {
    "heading_collapsed": true
   },
   "source": [
    "# Day 25: Running Time and Complexity"
   ]
  },
  {
   "cell_type": "markdown",
   "metadata": {
    "hidden": true
   },
   "source": [
    "https://www.hackerrank.com/challenges/30-running-time-and-complexity/problem"
   ]
  },
  {
   "cell_type": "code",
   "execution_count": 25,
   "metadata": {
    "hidden": true
   },
   "outputs": [],
   "source": [
    "def is_prime(number):\n",
    "    rest = number\n",
    "    divisor = 2\n",
    "    if number < divisor:\n",
    "        return False\n",
    "    while divisor < rest:\n",
    "        if not number % divisor:\n",
    "            return False\n",
    "        rest = number // divisor\n",
    "        divisor += 1\n",
    "    return True\n",
    "        "
   ]
  },
  {
   "cell_type": "markdown",
   "metadata": {
    "heading_collapsed": true,
    "hidden": true
   },
   "source": [
    "## test 1"
   ]
  },
  {
   "cell_type": "code",
   "execution_count": 23,
   "metadata": {
    "hidden": true,
    "scrolled": true
   },
   "outputs": [
    {
     "name": "stdout",
     "output_type": "stream",
     "text": [
      "0 Prime\n",
      "1 Prime\n",
      "2 Prime\n",
      "3 Prime\n",
      "4 Not prime\n",
      "5 Prime\n",
      "6 Not prime\n",
      "7 Prime\n",
      "8 Not prime\n",
      "9 Not prime\n",
      "10 Not prime\n",
      "11 Prime\n",
      "12 Not prime\n",
      "13 Prime\n",
      "14 Not prime\n",
      "15 Not prime\n",
      "16 Not prime\n",
      "17 Prime\n",
      "18 Not prime\n",
      "19 Prime\n",
      "20 Not prime\n",
      "21 Not prime\n",
      "22 Not prime\n",
      "23 Prime\n",
      "24 Not prime\n",
      "25 Not prime\n",
      "26 Not prime\n",
      "27 Not prime\n",
      "28 Not prime\n",
      "29 Prime\n",
      "30 Not prime\n",
      "31 Prime\n",
      "32 Not prime\n",
      "33 Not prime\n",
      "34 Not prime\n"
     ]
    }
   ],
   "source": [
    "for i in range(35):\n",
    "    print(i, 'Prime' if is_prime(i) else 'Not prime')"
   ]
  },
  {
   "cell_type": "markdown",
   "metadata": {
    "heading_collapsed": true,
    "hidden": true
   },
   "source": [
    "## test 2"
   ]
  },
  {
   "cell_type": "code",
   "execution_count": 26,
   "metadata": {
    "hidden": true
   },
   "outputs": [
    {
     "name": "stdout",
     "output_type": "stream",
     "text": [
      "1 Not prime\n",
      "4 Not prime\n",
      "9 Not prime\n",
      "16 Not prime\n",
      "25 Not prime\n",
      "36 Not prime\n",
      "49 Not prime\n",
      "64 Not prime\n",
      "81 Not prime\n",
      "100 Not prime\n",
      "121 Not prime\n",
      "144 Not prime\n",
      "169 Not prime\n",
      "196 Not prime\n",
      "225 Not prime\n",
      "256 Not prime\n",
      "289 Not prime\n",
      "324 Not prime\n",
      "361 Not prime\n",
      "400 Not prime\n",
      "441 Not prime\n",
      "484 Not prime\n",
      "529 Not prime\n",
      "576 Not prime\n",
      "625 Not prime\n",
      "676 Not prime\n",
      "729 Not prime\n",
      "784 Not prime\n",
      "841 Not prime\n",
      "907 Prime\n"
     ]
    }
   ],
   "source": [
    "input0 = [1, 4, 9, 16, 25, 36, 49, 64, 81, 100, 121, 144, 169, 196, 225, 256, 289, 324, 361, 400, 441, 484, 529, 576, 625, 676, 729, 784, 841, 907]\n",
    "\n",
    "for i in input0:\n",
    "    print(i, 'Prime' if is_prime(i) else 'Not prime')"
   ]
  },
  {
   "cell_type": "markdown",
   "metadata": {
    "heading_collapsed": true
   },
   "source": [
    "# Day 26: Nested Logic"
   ]
  },
  {
   "cell_type": "markdown",
   "metadata": {
    "hidden": true
   },
   "source": [
    "https://www.hackerrank.com/challenges/30-nested-logic/problem"
   ]
  },
  {
   "cell_type": "code",
   "execution_count": 1,
   "metadata": {
    "hidden": true
   },
   "outputs": [],
   "source": [
    "actualDay, actualMonth, actualYear = 9, 6, 2015\n",
    "expectedDay, expectedMonth, expectedYear = 6, 6, 2015"
   ]
  },
  {
   "cell_type": "code",
   "execution_count": 6,
   "metadata": {
    "hidden": true
   },
   "outputs": [],
   "source": [
    "def rental_fee(actualDay, actualMonth, actualYear, expectedDay, expectedMonth, expectedYear):\n",
    "    if actualYear > expectedYear:\n",
    "        return 10000\n",
    "    elif actualYear == expectedYear and actualMonth > expectedMonth:\n",
    "        return 500 * (actualMonth - expectedMonth)\n",
    "    elif actualYear == expectedYear and actualMonth == expectedMonth and actualDay > expectedDay:\n",
    "        return 15 * (actualDay - expectedDay)\n",
    "    else:\n",
    "        return 0"
   ]
  },
  {
   "cell_type": "code",
   "execution_count": 7,
   "metadata": {
    "hidden": true
   },
   "outputs": [
    {
     "data": {
      "text/plain": [
       "45"
      ]
     },
     "execution_count": 7,
     "metadata": {},
     "output_type": "execute_result"
    },
    {
     "data": {
      "text/plain": [
       "0"
      ]
     },
     "execution_count": 7,
     "metadata": {},
     "output_type": "execute_result"
    }
   ],
   "source": [
    "rental_fee(9, 6, 2015, 6, 6, 2015)\n",
    "#print(rental_fee(*map(int, input().split()), *map(int, input().split())))\n",
    "rental_fee(23, 12, 1234, 19, 9, 2468)"
   ]
  },
  {
   "cell_type": "markdown",
   "metadata": {
    "heading_collapsed": true
   },
   "source": [
    "# Day 27: Testing"
   ]
  },
  {
   "cell_type": "markdown",
   "metadata": {
    "hidden": true
   },
   "source": [
    "https://www.hackerrank.com/challenges/30-testing/problem"
   ]
  },
  {
   "cell_type": "markdown",
   "metadata": {
    "hidden": true
   },
   "source": [
    "<img src=\"https://i.imgur.com/vSI6h5B.png\" style=\"width: 500px;\"/>\n"
   ]
  },
  {
   "cell_type": "code",
   "execution_count": 16,
   "metadata": {
    "hidden": true
   },
   "outputs": [
    {
     "data": {
      "text/plain": [
       "['-1000', '-202', '0', '1000']"
      ]
     },
     "execution_count": 16,
     "metadata": {},
     "output_type": "execute_result"
    }
   ],
   "source": [
    "list(map(str, [-10**3, -202, 0, 10**3]))"
   ]
  },
  {
   "cell_type": "code",
   "execution_count": 19,
   "metadata": {
    "hidden": true
   },
   "outputs": [
    {
     "name": "stdout",
     "output_type": "stream",
     "text": [
      "5\n",
      "4 3\n",
      "-1 0 4 2\n",
      "5 2\n",
      "0 -1 2 1 4\n",
      "7 6\n",
      "2 0 -1 1 1 1 1\n",
      "3 1\n",
      "-1 0 4\n",
      "6 4\n",
      "0 -1 1 4 5 6\n"
     ]
    }
   ],
   "source": [
    "# t  (# lectures)\n",
    "# n, k  (# students, cancelation threshold)\n",
    "# a_i  (n size int array)\n",
    "\n",
    "def showTest(n, k, a):\n",
    "    print(\"{} {}\".format(n, k))\n",
    "    print(\" \".join(map(str, a)))\n",
    "\n",
    "testCases = 5\n",
    "print(testCases)\n",
    "showTest(4, 3, [-1, 0, 4, 2])\n",
    "showTest(5, 2, [0, -1, 2, 1, 4])\n",
    "showTest(7, 6, [2, 0, -1, 1, 1, 1, 1])\n",
    "showTest(3, 1, [-1, 0, 4])\n",
    "showTest(6, 4, [0, -1, 1, 4, 5, 6])"
   ]
  },
  {
   "cell_type": "markdown",
   "metadata": {
    "heading_collapsed": true
   },
   "source": [
    "# Day 28: RegEx, Patterns, and Intro to Databases"
   ]
  },
  {
   "cell_type": "markdown",
   "metadata": {
    "hidden": true
   },
   "source": [
    "https://www.hackerrank.com/challenges/30-regex-patterns/problem"
   ]
  },
  {
   "cell_type": "code",
   "execution_count": 35,
   "metadata": {
    "hidden": true,
    "scrolled": true
   },
   "outputs": [
    {
     "name": "stdout",
     "output_type": "stream",
     "text": [
      "julia\n",
      "julia\n",
      "riya\n",
      "samantha\n",
      "tanya\n"
     ]
    }
   ],
   "source": [
    "emails = '''riya riya@gmail.com\n",
    "julia julia@julia.me\n",
    "julia sjulia@gmail.com\n",
    "julia julia@gmail.com\n",
    "samantha samantha@gmail.com\n",
    "tanya tanya@gmail.com'''.split('\\n')\n",
    "\n",
    "#N = int(input().strip())\n",
    "#emails = []\n",
    "#for a0 in range(N):\n",
    "#    emails.append(input().strip())\n",
    "\n",
    "import re\n",
    "\n",
    "RE_GMAIL = re.compile(r'(\\w+) .+@gmail.com')\n",
    "print('\\n'.join(sum(sorted([RE_GMAIL.findall(email) for email in emails]), [])))"
   ]
  },
  {
   "cell_type": "code",
   "execution_count": 38,
   "metadata": {
    "hidden": true
   },
   "outputs": [
    {
     "name": "stdout",
     "output_type": "stream",
     "text": [
      "alice\n",
      "alice\n",
      "julia\n",
      "julia\n",
      "julia\n",
      "julia\n",
      "preeti\n",
      "priya\n",
      "riya\n",
      "riya\n",
      "samantha\n",
      "samantha\n",
      "tanya\n",
      "tanya\n"
     ]
    }
   ],
   "source": [
    "emails = '''riya riya@gmail.com\n",
    "julia julia@julia.me\n",
    "julia sjulia@gmail.com\n",
    "julia julia@gmail.com\n",
    "samantha samantha@gmail.com\n",
    "tanya tanya@gmail.com\n",
    "riya ariya@gmail.com\n",
    "julia bjulia@julia.me\n",
    "julia csjulia@gmail.com\n",
    "julia djulia@gmail.com\n",
    "samantha esamantha@gmail.com\n",
    "tanya ftanya@gmail.com\n",
    "riya riya@live.com\n",
    "julia julia@live.com\n",
    "julia sjulia@live.com\n",
    "julia julia@live.com\n",
    "samantha samantha@live.com\n",
    "tanya tanya@live.com\n",
    "riya ariya@live.com\n",
    "julia bjulia@live.com\n",
    "julia csjulia@live.com\n",
    "julia djulia@live.com\n",
    "samantha esamantha@live.com\n",
    "tanya ftanya@live.com\n",
    "riya gmail@riya.com\n",
    "priya priya@gmail.com\n",
    "preeti preeti@gmail.com\n",
    "alice alice@alicegmail.com\n",
    "alice alice@gmail.com\n",
    "alice gmail.alice@gmail.com'''.split('\\n')\n",
    "RE_GMAIL = re.compile(r'(\\w+) .+@gmail.com')\n",
    "print('\\n'.join(sum(sorted([RE_GMAIL.findall(email) for email in emails]), [])))"
   ]
  },
  {
   "cell_type": "markdown",
   "metadata": {},
   "source": [
    "# Day 29: Bitwise AND"
   ]
  },
  {
   "cell_type": "markdown",
   "metadata": {},
   "source": [
    "https://www.hackerrank.com/challenges/30-bitwise-and/problem"
   ]
  },
  {
   "cell_type": "markdown",
   "metadata": {},
   "source": [
    "## Naive solution"
   ]
  },
  {
   "cell_type": "code",
   "execution_count": 60,
   "metadata": {},
   "outputs": [
    {
     "name": "stdout",
     "output_type": "stream",
     "text": [
      "1\n",
      "4\n",
      "0\n"
     ]
    }
   ],
   "source": [
    "T = 3\n",
    "test_cases = [\n",
    "    (5, 2),\n",
    "    (8, 5),\n",
    "    (2, 2),\n",
    "]\n",
    "\n",
    "for n, k in test_cases:\n",
    "    max_and = 0\n",
    "    s = range(1, n+1)\n",
    "    for i, a in enumerate(s):\n",
    "        for b in s[i+1:]:\n",
    "            cur_and = a & b\n",
    "            #print('{} & {} = {}'.format(a, b, cur_and))\n",
    "            if cur_and < k and cur_and > max_and:\n",
    "                max_and = cur_and\n",
    "    print(max_and)"
   ]
  },
  {
   "cell_type": "markdown",
   "metadata": {},
   "source": [
    "## Solution"
   ]
  },
  {
   "cell_type": "markdown",
   "metadata": {},
   "source": [
    "    if k % 2 == 0:\n",
    "       k-1 % 2 == 1\n",
    "       ⇒ k-1 = (k-1) & k\n",
    "       ⇒ k = ((k-1) | k)"
   ]
  },
  {
   "cell_type": "code",
   "execution_count": 62,
   "metadata": {
    "scrolled": true
   },
   "outputs": [
    {
     "name": "stdout",
     "output_type": "stream",
     "text": [
      "1\n",
      "4\n",
      "0\n"
     ]
    }
   ],
   "source": [
    "for n, k in test_cases:\n",
    "    print(k-1 if ((k-1) | k) <= n else k-2)"
   ]
  },
  {
   "cell_type": "code",
   "execution_count": null,
   "metadata": {},
   "outputs": [],
   "source": []
  }
 ],
 "metadata": {
  "kernelspec": {
   "display_name": "Python 3",
   "language": "python",
   "name": "python3"
  },
  "language_info": {
   "codemirror_mode": {
    "name": "ipython",
    "version": 3
   },
   "file_extension": ".py",
   "mimetype": "text/x-python",
   "name": "python",
   "nbconvert_exporter": "python",
   "pygments_lexer": "ipython3",
   "version": "3.6.4"
  },
  "tdd": {
   "colors": {},
   "moveMenuRight": true,
   "navigate_menu": true,
   "number_sections": false,
   "sideBar": true,
   "tdd_cell": false,
   "tdd_section_display": "block",
   "tdd_window_display": false,
   "threshold": 4
  }
 },
 "nbformat": 4,
 "nbformat_minor": 2
}
